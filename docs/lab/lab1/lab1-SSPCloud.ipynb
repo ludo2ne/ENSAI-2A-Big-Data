{
 "cells": [
  {
   "cell_type": "raw",
   "metadata": {},
   "source": [
    "---\n",
    "title: First steps with Spark\n",
    "description: Lab 1\n",
    "format:\n",
    "  html:\n",
    "    toc: true\n",
    "    toc-location: left\n",
    "    toc-expand: 3\n",
    "execute:\n",
    "  eval: false\n",
    "---"
   ]
  },
  {
   "cell_type": "markdown",
   "metadata": {},
   "source": [
    "## 1. Before you start\n",
    "\n",
    "Follow these [instructions](../lab-setup.qmd)\n",
    "    \n",
    "## 2. Create a Spark session\n",
    "\n",
    "* [ ] Execute the following two cells to initialize a Spark session."
   ]
  },
  {
   "cell_type": "code",
   "execution_count": 4,
   "metadata": {
    "tags": [],
    "vscode": {
     "languageId": "json"
    }
   },
   "outputs": [],
   "source": [
    "import os\n",
    "from pyspark.sql import SparkSession\n",
    "\n",
    "spark = (SparkSession \n",
    "         .builder\n",
    "         # default url of the internally accessed Kubernetes API\n",
    "         # (This Jupyter notebook service is itself a Kubernetes Pod)\n",
    "         .master(\"k8s://https://kubernetes.default.svc:443\")\n",
    "         # Executors spark docker image: for simplicity reasons, this jupyter notebook is reused \n",
    "         .config(\"spark.kubernetes.container.image\", os.environ['IMAGE_NAME'])\n",
    "         # Name of the Kubernetes namespace\n",
    "         .config(\"spark.kubernetes.namespace\", os.environ['KUBERNETES_NAMESPACE'])\n",
    "         # Allocated memory to the JVM\n",
    "         # Stay careful, by default, the Kubernetes pods has a higher limit which depends on other parameters.\n",
    "         .config(\"spark.executor.memory\", \"4g\")\n",
    "         .config(\"spark.kubernetes.driver.pod.name\", os.environ['KUBERNETES_POD_NAME'])\n",
    "         # dynamic allocation configuration\n",
    "         .config(\"spark.dynamicAllocation.enabled\",\"true\")\n",
    "         .config(\"spark.dynamicAllocation.initialExecutors\",\"1\")\n",
    "         .config(\"spark.dynamicAllocation.minExecutors\",\"1\")\n",
    "         .config(\"spark.dynamicAllocation.maxExecutors\",\"60\")\n",
    "         # Ratio match the number of pods to create for a given number of parallel tasks \n",
    "         # (100 parallel, ratio of 1, one aims at 100 pods, with 0.5 it would be 50 pods)\n",
    "         .config(\"spark.dynamicAllocation.executorAllocationRatio\",\"1\")\n",
    "         .config(\"spark.dynamicAllocation.shuffleTracking.enabled\",\"true\")\n",
    "         .getOrCreate()\n",
    "        )"
   ]
  },
  {
   "cell_type": "code",
   "execution_count": null,
   "metadata": {},
   "outputs": [],
   "source": [
    "spark"
   ]
  },
  {
   "cell_type": "markdown",
   "metadata": {},
   "source": [
    "## 3. First steps with Spark - Data importation\n",
    "\n",
    "Spark's main object class is the DataFrame, which is a distributed table.  \n",
    "It is analogous to R's or Python (Pandas)'s data frames: \n",
    "\n",
    "- one row represents an observation,\n",
    "- one column represents a variable.\n",
    "\n",
    "But contrary to R or Python, Spark's DataFrames can be distributed over hundred of nodes.\n",
    "\n",
    "Spark support multiple data formats, and multiple  ways to load them.\n",
    "\n",
    "- data format : csv, json, parquet (an open source column oriented format)\n",
    "- can read archive files\n",
    "- schema detection or user defined schema. For static data, like a json file, schema detection can be use with good results.\n",
    "\n",
    "Spark has multiple syntaxes to import data. Some are simple with no customisation, others are more complexes but you can specify options.\n",
    "\n",
    "The simplest syntaxes to load a json or a csv file are :\n",
    "\n",
    "```python\n",
    "# JSON\n",
    "json_df = spark.read.json([location of the file])\n",
    "# csv\n",
    "csv_df = spark.read.csv([location of the file])\n",
    "\n",
    "```\n",
    "\n",
    "In the future, you may consult the [Data Source documentation](https://spark.apache.org/docs/latest/sql-data-sources.html) to have the complete description of Spark's reading abilities.\n",
    "\n",
    "The data you will use in this lab are real data from the twitter [sampled stream API](https://developer.twitter.com/en/docs/twitter-api/tweets/sampled-stream/introduction) and [filtered stream API](https://developer.twitter.com/en/docs/twitter-api/tweets/filtered-stream/introduction). The tweets folder contains more than 50 files and more than 2 million tweets. The tweets was collected between the 14/04/2021 and the 18/04/2021. The total collection time was less than 10 hours.\n",
    "\n",
    "---\n",
    "\n",
    "### ✍Hands-on 1  - Data importation\n",
    "\n",
    "- [ ] Load the json file stored here : `s3a://ludo2ne/diffusion/tweets.jsonl.gz`\n",
    "  - [ ] Name you data frame `df_tweet`\n",
    "  - [ ] Use function `cache()` on the data frame. Caching is a performance optimization technique that allows you to persist an intermediate or final result of a computation in memory, reducing the need to recompute the data when it is accessed multiple time\n",
    "\n",
    "  <small> ⚙️ This file is an a `JSONL` (JSON-line) format, which means that each line of it is a JSON object. A JSON object is just a Python dictionary or a JavaScript object and looks like this: `{ key1: value1, key2: [\"array\", \"of\", \"many values]}`). This file has been compressed into a `GZ` archive, hence the `.jsonl.gz` ending. Also this file is not magically appearing in your S3 storage. It is hosted on one of your teacher's bucket and has been made public, so that you can access it.</small>\n",
    "\n",
    "It's possible to load multiple file in a unique DataFrame. It's useful when you have daily files and want to process them all. It's the same syntax as the previous one, just specify a folder.\n",
    "\n",
    "* If you meet some issue to load this file, you can load and use your own file :\n",
    "  * In Onyxia, `mes fichiers`\n",
    "  * Load file `tweets.jsonl.gz`\n",
    "  * In Jupyter, read it using `s3a://<user_name>/tweets.jsonl.gz`\n"
   ]
  },
  {
   "cell_type": "code",
   "execution_count": 28,
   "metadata": {
    "tags": [],
    "vscode": {
     "languageId": "json"
    }
   },
   "outputs": [],
   "source": [
    "# DataFrame creation\n",
    "\n",
    "# caching"
   ]
  },
  {
   "cell_type": "markdown",
   "metadata": {},
   "source": [
    "## 4. Data frame basic manipulations\n",
    "\n",
    "If DataFrames are immutable, they can however be **_transformed_** in other DataFrames, in the sense that a modified copy is returned.  \n",
    "Such **transformations** include: filtering, sampling, dropping columns, selecting columns, adding new columns...\n",
    "\n",
    "First, you can get information about the columns with:\n",
    "\n",
    "```python\n",
    "df.columns       # get the column names\n",
    "df.schema        # get the column names and their respective type\n",
    "df.printSchema() # same, but human-readable\n",
    "```\n",
    "\n",
    "You can select columns with the `select()` method. It takes as argument a list of column name. For example :\n",
    "\n",
    "```python\n",
    "df_with_less_columns = df\\\n",
    "  .select(\"variable3\",\"variable_four\",\"variable-6\")\n",
    "\n",
    "# Yes, you do need the ugly \\ at the end of the line,\n",
    "# if you want to chain methods between lines in Python\n",
    "```\n",
    "\n",
    "You can get nested columns easily with :\n",
    "\n",
    "```python\n",
    "df.select(\"parentField.nestedField\")\n",
    "```\n",
    "\n",
    "To filter data you could use the `filter()` method. It take as input an expression that gets evaluated for each observation and should return a boolean. Sampling is performed with the `sample()` method. For example :\n",
    "\n",
    "```python\n",
    "df_with_less_rows = df\\\n",
    "  .sample(fraction=0.001)\\\n",
    "  .filter(df.variable1==\"value\")\\\n",
    "  .show(10)\n",
    "```\n",
    "\n",
    "As said before your data are distributed over multiple nodes (executors) and data inside a node are split into partitions. Then each transformations will be run in parallel. They are called *narrow transformation* For example, to sample a DataFrame, Spark sample every partitions in parallel because sample all partition produce the sample DataFrame. For some transformations, like `groupBy()` it's impossible, and it's cannot be run in parallel.\n",
    "\n",
    "<img src=\"img/spark_exemple2_pipeline.png\" style=\"zoom:50%;\" />\n",
    "\n",
    "<!-- take() collect() limit() first() show() -->\n",
    "<!-- lien vers la doc https://spark.apache.org/docs/3.1.1/api/python/reference/pyspark.sql.html#dataframe-apis -->\n",
    "\n",
    "### Lazy evaluation\n",
    "\n",
    "This is because Spark has what is known as **lazy evaluation**, in the sense that it will wait as much as it can before performing the actual computation. Said otherwise, when you run an instruction such as:\n",
    "\n",
    "```python\n",
    "tweet_author_hashtags = df_tweet_big.select(\"auteur\",\"hashtags\")\n",
    "```\n",
    "\n",
    "... you are not executing anything! Rather, you are building an **execution plan**, to be realised later.\n",
    "\n",
    "Spark is quite extreme in its laziness, since only a handful of methods called **actions**, by opposition to **transformations**, will trigger an execution. The most notable are:\n",
    "\n",
    "1. `collect()`, explicitly asking Spark to fetch the resulting rows instead of to lazily wait for more instructions,\n",
    "2. `take(n)`, asking for `n` first rows\n",
    "3. `first()`, an alias for `take(1)`\n",
    "4. `show()` and `show(n)`, human-friendly alternatives\n",
    "5. `count()`, asking for the numbers of rows\n",
    "6. all the \"write\" methods (write on file, write to database), see [here](https://spark.apache.org/docs/3.1.1/api/python/reference/pyspark.sql.html#input-and-output) for the list\n",
    "\n",
    "**This has advantages:** on huge data, you don't want to accidently perform a computation that is not needed. Also, Spark can optimize each **stage** of the execution in regard to what comes next. For instance, filters will be executed as early as possible, since it diminishes the number of rows on which to perform later operations. On the contrary, joins are very computation-intense and will be executed as late as possible. The resulting **execution plan** consists in a **directed acyclic graph** (DAG) that contains the tree of all required actions for a specific computation, ordered in the most effective fashion.\n",
    "\n",
    "**This has also drawbacks.** Since the computation is optimized for the end result, the intermediate stages are discarded by default. So if you need a DataFrame multiple times, you have to cache it in memory because if you don't Spark will recompute it every single time. \n",
    "\n",
    "---\n",
    "\n",
    "### ✍Hands-on 2 - Data frame basic manipulations\n",
    "\n",
    "- [ ] How many rows have your two DataFrame ?"
   ]
  },
  {
   "cell_type": "code",
   "execution_count": null,
   "metadata": {
    "vscode": {
     "languageId": "json"
    }
   },
   "outputs": [],
   "source": []
  },
  {
   "cell_type": "markdown",
   "metadata": {},
   "source": [
    "- [ ] Display columns names and then the schema"
   ]
  },
  {
   "cell_type": "code",
   "execution_count": null,
   "metadata": {},
   "outputs": [],
   "source": []
  },
  {
   "cell_type": "code",
   "execution_count": null,
   "metadata": {},
   "outputs": [],
   "source": []
  },
  {
   "cell_type": "markdown",
   "metadata": {},
   "source": [
    "- [ ] Display 10 rows of df_tweet"
   ]
  },
  {
   "cell_type": "code",
   "execution_count": null,
   "metadata": {},
   "outputs": [],
   "source": []
  },
  {
   "cell_type": "markdown",
   "metadata": {},
   "source": [
    "- [ ] Sample `df_tweet` and keep only 10% of it.\n",
    "  - Create a new DataFrame named `df_tweet_sampled`.\n",
    "  - If computations take too long on the full DataFrame, use this one instead or add a sample transformation in your expression. "
   ]
  },
  {
   "cell_type": "code",
   "execution_count": null,
   "metadata": {
    "vscode": {
     "languageId": "json"
    }
   },
   "outputs": [],
   "source": []
  },
  {
   "cell_type": "markdown",
   "metadata": {},
   "source": [
    "- [ ] Define a DataFrame `tweet_author_hashtags` with only the `auteur` and `hashtags` columns\n",
    "  - [ ] Then display 5 rows"
   ]
  },
  {
   "cell_type": "code",
   "execution_count": null,
   "metadata": {
    "vscode": {
     "languageId": "json"
    }
   },
   "outputs": [],
   "source": []
  },
  {
   "cell_type": "markdown",
   "metadata": {},
   "source": [
    "- [ ] Print 5 lines of a **df_tweet** with only the `auteur`, `mentions`, and `urls` columns.\n",
    "  - `mentions` and `urls` are both nested columns in `entities`"
   ]
  },
  {
   "cell_type": "code",
   "execution_count": null,
   "metadata": {
    "vscode": {
     "languageId": "json"
    }
   },
   "outputs": [],
   "source": []
  },
  {
   "cell_type": "markdown",
   "metadata": {},
   "source": [
    "- [ ] Filter **df_tweet** and keep only tweets with more than 1 like.\n",
    "  - [ ] Display only `auteur`, `contenu` and `like_count`\n",
    "  - [ ] Print 10 lines"
   ]
  },
  {
   "cell_type": "code",
   "execution_count": null,
   "metadata": {},
   "outputs": [],
   "source": []
  },
  {
   "cell_type": "markdown",
   "metadata": {},
   "source": [
    "## 5. Basic DataFrame column manipulation \n",
    "\n",
    "You can add/update/rename column of a DataFrame using **spark** :\n",
    "\n",
    "- Drop : `df.drop(columnName : str )`\n",
    "- Rename : `df.withColumnRenamed(oldName : str, newName : str)`\n",
    "- Add/update : `df.withColumn(columnName : str, columnExpression)` \n",
    "\n",
    "For example\n",
    "\n",
    "```python\n",
    "df_tweet\\\n",
    "  .withColumn(                                        # computes new variable\n",
    "    \"like_rt_ratio\",                                  # like_rt_ratio \"OVERCONFIDENCE\"\n",
    "    df_tweet.like_count /df_tweet.retweet_count)\n",
    "```\n",
    "\n",
    "See **[here](https://spark.apache.org/docs/3.1.1/api/python/reference/pyspark.sql.html#functions)** for the list of all functions available in an expression.\n",
    "\n",
    "### ✍Hands-on 3 - Basic DataFrame column manipulation  \n",
    "\n",
    "- [ ] Define a DataFrame with a column names `interaction_count` named `df_tweet_interaction_count`\n",
    "  - This column is the sum of `like_count`, `reply_count` and `retweet_count`."
   ]
  },
  {
   "cell_type": "code",
   "execution_count": null,
   "metadata": {
    "vscode": {
     "languageId": "json"
    }
   },
   "outputs": [],
   "source": []
  },
  {
   "cell_type": "markdown",
   "metadata": {},
   "source": [
    "- [ ] Update the DataFrame you imported at the beginning of this lab and drop the `other` column"
   ]
  },
  {
   "cell_type": "code",
   "execution_count": null,
   "metadata": {
    "vscode": {
     "languageId": "json"
    }
   },
   "outputs": [],
   "source": []
  },
  {
   "cell_type": "markdown",
   "metadata": {},
   "source": [
    "## 6. Advance DataFrame column manipulation \n",
    "\n",
    "### Array manipulation\n",
    "\n",
    "Some columns often contain arrays (lists) of values instead of just one value. This may seem surprising but this actually quite natural.  \n",
    "For instance, you may create an array of words from a text, or generate a list of random numbers for each observation, etc.\n",
    "\n",
    "You may **create array of values** with:\n",
    "\n",
    "- `split(text : string, delimiter : string)`, turning a text into an array of strings\n",
    "\n",
    "You may **use array of values** with:\n",
    "\n",
    "- `size(array : Array)`, getting the number of elements\n",
    "- `array_contains(inputArray : Array, value : any)`, checking if some value appears\n",
    "- `explode(array : Array)`, unnesting an array and duplicating other values. For instance if you use `explode()` over the hashtags value of this DataFrame:\n",
    "\n",
    "  | Auteur | Contenu                             | Hashtags         |\n",
    "  | ------ | ----------------------------------- | ---------------- |\n",
    "  | Bob    | I love #Spark and #bigdata          | [Spark, bigdata] |\n",
    "  | Alice  | Just finished #MHrise, best MH ever | [MHrise]         |\n",
    "\n",
    "  You will get :\n",
    "\n",
    "  | Auteur | Contenu                             | Hashtags         | Hashtag |\n",
    "  | ------ | ----------------------------------- | ---------------- | ------- |\n",
    "  | Bob    | I love #Spark and #bigdata          | [Spark, bigdata] | Spark   |\n",
    "  | Bob    | I love #Spark and #bigdata          | [Spark, bigdata] | bigdata |\n",
    "  | Alice  | Just finished #MHrise, best MH ever | [MHrise]         | MHrise  |\n",
    "\n",
    "  \n",
    "\n",
    "All this functions must be imported first :\n",
    "\n",
    "```python\n",
    "from pyspark.sql.functions import split, explode, size, array_contains\n",
    "```\n",
    "\n",
    "Do not forget, to create a new column, you should use `withColumn()`. For example : \n",
    "\n",
    "```python\n",
    "df.withColumn(\"new column\", explode(\"array\"))\n",
    "```\n",
    "\n",
    "#### ✍Hands-on 4 - Array manipulation \n",
    "\n",
    "- [ ] Keep all the tweets with hashtags and for each remaining line, split the hashtag text into an array of hashtags"
   ]
  },
  {
   "cell_type": "code",
   "execution_count": null,
   "metadata": {
    "vscode": {
     "languageId": "json"
    }
   },
   "outputs": [],
   "source": []
  },
  {
   "cell_type": "markdown",
   "metadata": {},
   "source": [
    "- [ ] Create a new column with the number of words of the `contenu` column. (Use `split()` + `size()`)"
   ]
  },
  {
   "cell_type": "code",
   "execution_count": null,
   "metadata": {
    "vscode": {
     "languageId": "json"
    }
   },
   "outputs": [],
   "source": []
  },
  {
   "cell_type": "markdown",
   "metadata": {},
   "source": [
    "- [ ] Count how many tweet contain the `Ukraine` hashtag (use the `count()` action)"
   ]
  },
  {
   "cell_type": "code",
   "execution_count": null,
   "metadata": {
    "vscode": {
     "languageId": "json"
    }
   },
   "outputs": [],
   "source": []
  },
  {
   "cell_type": "markdown",
   "metadata": {},
   "source": [
    "### User defined function\n",
    "\n",
    "For more very specific column manipulation you will need Spark's `udf()` function (*User Defined Function*). It can be useful if Spark does not provide a feature you want. But Spark is a popular and active project, so before coding an udf, go check the documentation. For instance for natural language processing, Spark already has some [functions](https://spark.apache.org/docs/3.1.1/api/python/reference/api/pyspark.ml.feature.Tokenizer.html#pyspark.ml.feature.Tokenizer). Last things, python udf can lead to performance issues (see https://stackoverflow.com/a/38297050) and learning a little bit of scala or java can be a good idea.\n",
    "\n",
    "For example :\n",
    "\n",
    "```python\n",
    "# !!!! DOES NOT WORK !!!!\n",
    "def to_lower_case(string):\n",
    "\treturn string.lower()\n",
    "\t\n",
    "df.withColumn(\"tweet_lower_case\", to_lower_case(df.contenu))\n",
    "```\n",
    "\n",
    "will just crash. Keep in mind that Spark is a distributed system, and that Python is only installed on the central node, as a convenience to let you execute instructions on the executor nodes. But by default, pure Python functions can only be executed where Python is installed! We need `udf()` to enable Spark to send Python instructions to the worker nodes.\n",
    "\n",
    "Let us see how it is done :\n",
    "\n",
    "```python\n",
    "# imports\n",
    "from pyspark.sql.functions import udf\n",
    "from pyspark.sql.functions import explode\n",
    "from pyspark.sql.types import StringType\n",
    "\n",
    "# pure python functions\n",
    "def to_lower_case(string):\n",
    "    return string.lower()\n",
    "\n",
    "# user defined function(we use a lambda function to create the udf)\n",
    "to_lower_case_udf = udf(\n",
    "    lambda x: to_lower_case(x), StringType()\n",
    ")\n",
    "\n",
    "# df manipulation\n",
    "df_tweet_small\\\n",
    "  .select(\"auteur\",\"hashtags\")\\\n",
    "  .filter(\"size(hashtags)!=0\")\\\n",
    "  .withColumn(\"hashtag\", explode(\"hashtags\"))\\\n",
    "  .withColumn(\"hashtag\", to_lower_case_udf(\"hashtag\")).show(10)\n",
    "```\n",
    "\n",
    "---\n",
    "\n",
    "#### ✍Hands-on 5 - User defined function \n",
    "\n",
    "- [ ] Create an user defined function that counts how many words a tweet contains.\n",
    "  - your function will return an `IntegerType` and not a `StringType`"
   ]
  },
  {
   "cell_type": "code",
   "execution_count": null,
   "metadata": {
    "vscode": {
     "languageId": "json"
    }
   },
   "outputs": [],
   "source": []
  },
  {
   "cell_type": "markdown",
   "metadata": {},
   "source": [
    "## 7. Aggregation functions\n",
    "\n",
    "Spark offer a variety of aggregation functions :\n",
    "\n",
    "- `count(column : string)` will count every not null value of the specify column. You cant use `count(1)` of `count(\"*\")` to count every line (even row with only null values)\n",
    "\n",
    "- `countDisctinct(column : string)` and `approx_count_distinct(column : string, percent_error: float)`. If the exact number is irrelevant, `approx_count_distinct()`should be preferred.\n",
    "\n",
    "  Counting distinct elements cannot be done in parallel, and need a lot data transfer. But if you only need an approximation, there is a algorithm, named hyper-log-log (more info [here](https://databricks.com/fr/blog/2016/05/19/approximate-algorithms-in-apache-spark-hyperloglog-and-quantiles.html)) that can be parallelized. \n",
    "\n",
    "  ```python\n",
    "  from pyspark.sql.functions import count, countDistinct, approx_count_distinct\n",
    "  \n",
    "  df.select(count(\"col1\")).show()\n",
    "  df.select(countDistinct(\"col1\")).show()\n",
    "  df.select(approx_count_distinct(\"col1\"), 0.1).show()\n",
    "  ```\n",
    "\n",
    "- You have access to all other common functions `min()`, `max()`, `first()`, `last()`, `sum()`, `sumDistinct()`, `avg()` etc (you should import them first `from pyspark.sql.functions import min, max, avg, first, last, sum, sumDistinct`) \n",
    "\n",
    "---\n",
    "\n",
    "### ✍Hands-on 6 - Aggregation functions\n",
    "\n",
    "- [ ] What are the min, max, average of `interaction_count` (use `df_tweet_interaction_count` created earlier)\n",
    "  - don't forget to import the required functions"
   ]
  },
  {
   "cell_type": "code",
   "execution_count": null,
   "metadata": {
    "vscode": {
     "languageId": "json"
    }
   },
   "outputs": [],
   "source": []
  },
  {
   "cell_type": "markdown",
   "metadata": {},
   "source": [
    "- [ ] How many tweets have hashtags ?\n",
    "  - [ ] Distinct hashtags ?\n",
    "  - [ ] Try the approximative count with 0.1 and 0.01 as maximum estimation error allowed."
   ]
  },
  {
   "cell_type": "code",
   "execution_count": null,
   "metadata": {
    "vscode": {
     "languageId": "json"
    }
   },
   "outputs": [],
   "source": []
  },
  {
   "cell_type": "markdown",
   "metadata": {},
   "source": [
    "## 8. Grouping functions\n",
    "\n",
    "Like SQL you can group row by a criteria with Spark. Just use the `groupBy(column : string)` method. Then you can compute some aggregation over those groups.\n",
    "\n",
    "```python\n",
    "df\\\n",
    "  .groupBy(\"col1\")\\\n",
    "  .agg(count(\"col2\").alias(\"quantity\"))\\           # alias is use to specify the name of the new column\n",
    "  .show() \n",
    "```\n",
    "\n",
    "The `agg()` method can take multiples argument to compute multiple aggregation at once.\n",
    "\n",
    "```python\n",
    "df\\\n",
    "  .groupBy(\"col1\")\\\n",
    "  .agg(count(\"col2\").alias(\"quantity\"), \n",
    "       min(\"col2\").alias(\"min\"), \n",
    "       avg(\"col3\").alias(\"avg3\"))\\\n",
    "  .show()\n",
    "```\n",
    "\n",
    "Aggregation and grouping transformations work differently than the previous method like `filter()`, `select()`, `withColumn()` etc. Those transformations cannot be run over each partitions in parallel, and need to transfer data between partitions and executors.  They are called \"wide transformations\"\n",
    "\n",
    "<img src=\"img/spark_exemple2_pipeline.png\" style=\"zoom:50%;\" />\n",
    "\n",
    "### ✍Hands-on 7 - Grouping functions\n",
    "\n",
    "- [ ] Compute a daframe with the min, max and average retweet of each `auteur`.\n",
    "  - [ ] Then order it by the max number of retweet in descending order by .\n",
    "  - To do that you can use the following syntax\n",
    "\n",
    "  ```python\n",
    "  from pyspark.sql.functions import desc\n",
    "  df.orderBy(desc(\"col\"))\n",
    "  ```"
   ]
  },
  {
   "cell_type": "code",
   "execution_count": null,
   "metadata": {},
   "outputs": [],
   "source": []
  },
  {
   "cell_type": "markdown",
   "metadata": {},
   "source": [
    "## 9. Spark SQL\n",
    "\n",
    "Spark understand SQL statement. It's not a hack nor a workaround to use SQL in Spark, it's one a the more powerful feature in Spark. To use SQL you will need :\n",
    "\n",
    "1. Register a view pointing to your DataFrame\n",
    "\n",
    "   ```python\n",
    "   my_df.createOrReplaceTempView(viewName : str)\n",
    "   ```\n",
    "\n",
    "2. Use the sql function\n",
    "\n",
    "   ```python\n",
    "   spark.sql(\"\"\"\n",
    "   Your SQL statement\n",
    "   \"\"\")\n",
    "   ```\n",
    "\n",
    "   You could manipulate every registered DataFrame by their view name with plain SQL.\n",
    "\n",
    "In fact you can do most of this tutorial without any knowledge in PySpark nor Spark.  \n",
    "Many things can only be done in Spark if you know SQL and how to use it in Spark. \n",
    "\n",
    "### ✍Hands-on 8 - Spark SQL\n",
    "\n",
    "- [ ] How many tweets have hashtags ?\n",
    "  - [ ] Distinct hashtags ? "
   ]
  },
  {
   "cell_type": "code",
   "execution_count": null,
   "metadata": {},
   "outputs": [],
   "source": []
  },
  {
   "cell_type": "markdown",
   "metadata": {},
   "source": [
    "- [ ] Compute a dataframe with the min, max and average retweet of each `auteur` using Spark SQL"
   ]
  },
  {
   "cell_type": "code",
   "execution_count": null,
   "metadata": {},
   "outputs": [],
   "source": []
  },
  {
   "cell_type": "markdown",
   "metadata": {},
   "source": [
    "# 10. Delete the Jupyter-pyspark service\n",
    "\n",
    "* [ ] Export your notebook\n",
    "  - Right clic and Download (.ipynb)\n",
    "  - File > Save and Export Notebook > HTML\n",
    "* https://datalab.sspcloud.fr/my-services"
   ]
  }
 ],
 "metadata": {
  "kernelspec": {
   "display_name": "Python 3 (ipykernel)",
   "language": "python",
   "name": "python3"
  },
  "language_info": {
   "codemirror_mode": {
    "name": "ipython",
    "version": 3
   },
   "file_extension": ".py",
   "mimetype": "text/x-python",
   "name": "python",
   "nbconvert_exporter": "python",
   "pygments_lexer": "ipython3",
   "version": "3.10.13"
  }
 },
 "nbformat": 4,
 "nbformat_minor": 4
}
