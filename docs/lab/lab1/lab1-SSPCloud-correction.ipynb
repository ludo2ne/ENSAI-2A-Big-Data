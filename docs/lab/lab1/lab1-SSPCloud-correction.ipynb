{
 "cells": [
  {
   "cell_type": "raw",
   "metadata": {},
   "source": [
    "---\n",
    "title: First steps with Spark\n",
    "description: Lab 1\n",
    "format:\n",
    "  html:\n",
    "    toc: true\n",
    "    toc-location: left\n",
    "    toc-expand: 3\n",
    "execute:\n",
    "  eval: false\n",
    "---"
   ]
  },
  {
   "cell_type": "markdown",
   "metadata": {},
   "source": [
    "## 1. Before you start\n",
    "\n",
    "- [ ] connect to [SSPCloud](https://datalab.sspcloud.fr/)\n",
    "  - if necessary, create an account with your ENSAI e-mail address\n",
    "- Go to `Mes services`\n",
    "  - [ ] Create a new service : `Jupyter-pyspark`\n",
    "  - Wait for a few seconds\n",
    "  - [ ] Clic on `Copier le mot de passe` and then `Ouvrir le service`\n",
    "  - [ ] On the next page, paste it in the appropriate place and `Log in`\n",
    "  - You are now in your Jupyter service\n",
    "- [ ] Import file named `lab1-SSPCloud.ipynb`\n",
    "  - [ ] open it and follow the instructions\n",
    "\n",
    "#### At this end of this lab\n",
    "\n",
    "- [ ] Export your notebook\n",
    "  - File > Export Notebook As ... > Export Notebook To HTML\n",
    "- [ ] Delete your Jupyter service !\n",
    "    \n",
    "## 2. Create a Spark session\n",
    "\n",
    "* [ ] Execute the following two cells to initialize a Spark session."
   ]
  },
  {
   "cell_type": "code",
   "execution_count": 4,
   "metadata": {
    "tags": [],
    "vscode": {
     "languageId": "json"
    }
   },
   "outputs": [],
   "source": [
    "import os\n",
    "from pyspark.sql import SparkSession\n",
    "\n",
    "spark = (SparkSession \n",
    "         .builder\n",
    "         # default url of the internally accessed Kubernetes API\n",
    "         # (This Jupyter notebook service is itself a Kubernetes Pod)\n",
    "         .master(\"k8s://https://kubernetes.default.svc:443\")\n",
    "         # Executors spark docker image: for simplicity reasons, this jupyter notebook is reused \n",
    "         .config(\"spark.kubernetes.container.image\", os.environ['IMAGE_NAME'])\n",
    "         # Name of the Kubernetes namespace\n",
    "         .config(\"spark.kubernetes.namespace\", os.environ['KUBERNETES_NAMESPACE'])\n",
    "         # Allocated memory to the JVM\n",
    "         # Stay careful, by default, the Kubernetes pods has a higher limit which depends on other parameters.\n",
    "         .config(\"spark.executor.memory\", \"4g\")\n",
    "         .config(\"spark.kubernetes.driver.pod.name\", os.environ['KUBERNETES_POD_NAME'])\n",
    "         # dynamic allocation configuration\n",
    "         .config(\"spark.dynamicAllocation.enabled\",\"true\")\n",
    "         .config(\"spark.dynamicAllocation.initialExecutors\",\"1\")\n",
    "         .config(\"spark.dynamicAllocation.minExecutors\",\"1\")\n",
    "         .config(\"spark.dynamicAllocation.maxExecutors\",\"60\")\n",
    "         # Ratio match the number of pods to create for a given number of parallel tasks \n",
    "         # (100 parallel, ratio of 1, one aims at 100 pods, with 0.5 it would be 50 pods)\n",
    "         .config(\"spark.dynamicAllocation.executorAllocationRatio\",\"1\")\n",
    "         .config(\"spark.dynamicAllocation.shuffleTracking.enabled\",\"true\")\n",
    "         .getOrCreate()\n",
    "        )"
   ]
  },
  {
   "cell_type": "code",
   "execution_count": 5,
   "metadata": {},
   "outputs": [
    {
     "data": {
      "text/html": [
       "\n",
       "            <div>\n",
       "                <p><b>SparkSession - in-memory</b></p>\n",
       "                \n",
       "        <div>\n",
       "            <p><b>SparkContext</b></p>\n",
       "\n",
       "            <p><a href=\"http://jupyter-pyspark-180818-0.jupyter-pyspark-180818.user-ludo2ne.svc.cluster.local:4040\">Spark UI</a></p>\n",
       "\n",
       "            <dl>\n",
       "              <dt>Version</dt>\n",
       "                <dd><code>v3.5.0</code></dd>\n",
       "              <dt>Master</dt>\n",
       "                <dd><code>k8s://https://kubernetes.default.svc:443</code></dd>\n",
       "              <dt>AppName</dt>\n",
       "                <dd><code>pyspark-shell</code></dd>\n",
       "            </dl>\n",
       "        </div>\n",
       "        \n",
       "            </div>\n",
       "        "
      ],
      "text/plain": [
       "<pyspark.sql.session.SparkSession at 0x7f70c5cd2170>"
      ]
     },
     "execution_count": 5,
     "metadata": {},
     "output_type": "execute_result"
    }
   ],
   "source": [
    "spark"
   ]
  },
  {
   "cell_type": "markdown",
   "metadata": {},
   "source": [
    "## 3. First steps with Spark - Data importation\n",
    "\n",
    "Spark's main object class is the DataFrame, which is a distributed table.  \n",
    "It is analogous to R's or Python (Pandas)'s data frames: \n",
    "\n",
    "- one row represents an observation,\n",
    "- one column represents a variable.\n",
    "\n",
    "But contrary to R or Python, Spark's DataFrames can be distributed over hundred of nodes.\n",
    "\n",
    "Spark support multiple data formats, and multiple  ways to load them.\n",
    "\n",
    "- data format : csv, json, parquet (an open source column oriented format)\n",
    "- can read archive files\n",
    "- schema detection or user defined schema. For static data, like a json file, schema detection can be use with good results.\n",
    "\n",
    "Spark has multiple syntaxes to import data. Some are simple with no customisation, others are more complexes but you can specify options.\n",
    "\n",
    "The simplest syntaxes to load a json or a csv file are :\n",
    "\n",
    "```python\n",
    "# JSON\n",
    "json_df = spark.read.json([location of the file])\n",
    "# csv\n",
    "csv_df = spark.read.csv([location of the file])\n",
    "\n",
    "```\n",
    "\n",
    "In the future, you may consult the [Data Source documentation](https://spark.apache.org/docs/latest/sql-data-sources.html) to have the complete description of Spark's reading abilities.\n",
    "\n",
    "The data you will use in this lab are real data from the twitter [sampled stream API](https://developer.twitter.com/en/docs/twitter-api/tweets/sampled-stream/introduction) and [filtered stream API](https://developer.twitter.com/en/docs/twitter-api/tweets/filtered-stream/introduction). The tweets folder contains more than 50 files and more than 2 million tweets. The tweets was collected between the 14/04/2021 and the 18/04/2021. The total collection time was less than 10 hours.\n",
    "\n",
    "---\n",
    "\n",
    "### ✍Hands-on 1  - Data importation\n",
    "\n",
    "- [ ] Load the json file stored here : `s3a://ludo2ne/diffusion/tweets.jsonl.gz`\n",
    "  - [ ] Name you data frame `df_tweet`\n",
    "  - [ ] Use function `cache()` on the data frame. Caching is a performance optimization technique that allows you to persist an intermediate or final result of a computation in memory, reducing the need to recompute the data when it is accessed multiple time\n",
    "\n",
    "  <small> ⚙️ This file is an a `JSONL` (JSON-line) format, which means that each line of it is a JSON object. A JSON object is just a Python dictionary or a JavaScript object and looks like this: `{ key1: value1, key2: [\"array\", \"of\", \"many values]}`). This file has been compressed into a `GZ` archive, hence the `.jsonl.gz` ending. Also this file is not magically appearing in your S3 storage. It is hosted on one of your teacher's bucket and has been made public, so that you can access it.</small>\n",
    "\n",
    "It's possible to load multiple file in a unique DataFrame. It's useful when you have daily files and want to process them all. It's the same syntax as the previous one, just specify a folder.\n",
    "\n",
    "* If you meet some issue to load this file, you can load and use your own file :\n",
    "  * In Onyxia, `mes fichiers`\n",
    "  * Load file `tweets.jsonl.gz`\n",
    "  * In Jupyter, read it using `s3a://<user_name>/tweets.jsonl.gz`\n"
   ]
  },
  {
   "cell_type": "code",
   "execution_count": 6,
   "metadata": {
    "tags": [],
    "vscode": {
     "languageId": "json"
    }
   },
   "outputs": [
    {
     "name": "stderr",
     "output_type": "stream",
     "text": [
      "                                                                                \r"
     ]
    },
    {
     "data": {
      "text/plain": [
       "DataFrame[auteur: string, contenu: string, date_creation: string, entities: struct<annotations:array<struct<end:bigint,normalized_text:string,probability:double,start:bigint,type:string>>,cashtags:array<struct<end:bigint,start:bigint,tag:string>>,hashtags:array<struct<end:bigint,start:bigint,tag:string>>,mentions:array<struct<end:bigint,id:string,start:bigint,username:string>>,urls:array<struct<description:string,display_url:string,end:bigint,expanded_url:string,images:array<struct<height:bigint,url:string,width:bigint>>,start:bigint,status:bigint,title:string,unwound_url:string,url:string>>>, hashtags: array<string>, like_count: bigint, other: struct<auteur_name:string>, reply_count: bigint, retweet_count: bigint]"
      ]
     },
     "execution_count": 6,
     "metadata": {},
     "output_type": "execute_result"
    }
   ],
   "source": [
    "# DataFrame creation\n",
    "df_tweet = spark.read.json(\"s3a://ludo2ne/diffusion/tweets.jsonl.gz\")\n",
    "\n",
    "# caching\n",
    "df_tweet.cache()"
   ]
  },
  {
   "cell_type": "markdown",
   "metadata": {},
   "source": [
    "## 4. Data frame basic manipulations\n",
    "\n",
    "If DataFrames are immutable, they can however be **_transformed_** in other DataFrames, in the sense that a modified copy is returned.  \n",
    "Such **transformations** include: filtering, sampling, dropping columns, selecting columns, adding new columns...\n",
    "\n",
    "First, you can get information about the columns with:\n",
    "\n",
    "```python\n",
    "df.columns       # get the column names\n",
    "df.schema        # get the column names and their respective type\n",
    "df.printSchema() # same, but human-readable\n",
    "```\n",
    "\n",
    "You can select columns with the `select()` method. It takes as argument a list of column name. For example :\n",
    "\n",
    "```python\n",
    "df_with_less_columns = df\\\n",
    "  .select(\"variable3\",\"variable_four\",\"variable-6\")\n",
    "\n",
    "# Yes, you do need the ugly \\ at the end of the line,\n",
    "# if you want to chain methods between lines in Python\n",
    "```\n",
    "\n",
    "You can get nested columns easily with :\n",
    "\n",
    "```python\n",
    "df.select(\"parentField.nestedField\")\n",
    "```\n",
    "\n",
    "To filter data you could use the `filter()` method. It take as input an expression that gets evaluated for each observation and should return a boolean. Sampling is performed with the `sample()` method. For example :\n",
    "\n",
    "```python\n",
    "df_with_less_rows = df\\\n",
    "  .sample(fraction=0.001)\\\n",
    "  .filter(df.variable1==\"value\")\\\n",
    "  .show(10)\n",
    "```\n",
    "\n",
    "As said before your data are distributed over multiple nodes (executors) and data inside a node are split into partitions. Then each transformations will be run in parallel. They are called *narrow transformation* For example, to sample a DataFrame, Spark sample every partitions in parallel because sample all partition produce the sample DataFrame. For some transformations, like `groupBy()` it's impossible, and it's cannot be run in parallel.\n",
    "\n",
    "<img src=\"img/spark_exemple2_pipeline.png\" style=\"zoom:50%;\" />\n",
    "\n",
    "<!-- take() collect() limit() first() show() -->\n",
    "<!-- lien vers la doc https://spark.apache.org/docs/3.1.1/api/python/reference/pyspark.sql.html#dataframe-apis -->\n",
    "\n",
    "### Lazy evaluation\n",
    "\n",
    "This is because Spark has what is known as **lazy evaluation**, in the sense that it will wait as much as it can before performing the actual computation. Said otherwise, when you run an instruction such as:\n",
    "\n",
    "```python\n",
    "tweet_author_hashtags = df_tweet_big.select(\"auteur\",\"hashtags\")\n",
    "```\n",
    "\n",
    "... you are not executing anything! Rather, you are building an **execution plan**, to be realised later.\n",
    "\n",
    "Spark is quite extreme in its laziness, since only a handful of methods called **actions**, by opposition to **transformations**, will trigger an execution. The most notable are:\n",
    "\n",
    "1. `collect()`, explicitly asking Spark to fetch the resulting rows instead of to lazily wait for more instructions,\n",
    "2. `take(n)`, asking for `n` first rows\n",
    "3. `first()`, an alias for `take(1)`\n",
    "4. `show()` and `show(n)`, human-friendly alternatives\n",
    "5. `count()`, asking for the numbers of rows\n",
    "6. all the \"write\" methods (write on file, write to database), see [here](https://spark.apache.org/docs/3.1.1/api/python/reference/pyspark.sql.html#input-and-output) for the list\n",
    "\n",
    "**This has advantages:** on huge data, you don't want to accidently perform a computation that is not needed. Also, Spark can optimize each **stage** of the execution in regard to what comes next. For instance, filters will be executed as early as possible, since it diminishes the number of rows on which to perform later operations. On the contrary, joins are very computation-intense and will be executed as late as possible. The resulting **execution plan** consists in a **directed acyclic graph** (DAG) that contains the tree of all required actions for a specific computation, ordered in the most effective fashion.\n",
    "\n",
    "**This has also drawbacks.** Since the computation is optimized for the end result, the intermediate stages are discarded by default. So if you need a DataFrame multiple times, you have to cache it in memory because if you don't Spark will recompute it every single time. \n",
    "\n",
    "---\n",
    "\n",
    "### ✍Hands-on 2 - Data frame basic manipulations\n",
    "\n",
    "- [ ] How many rows have your two DataFrame ?"
   ]
  },
  {
   "cell_type": "code",
   "execution_count": 4,
   "metadata": {
    "vscode": {
     "languageId": "json"
    }
   },
   "outputs": [
    {
     "name": "stderr",
     "output_type": "stream",
     "text": [
      "                                                                                \r"
     ]
    },
    {
     "data": {
      "text/plain": [
       "100000"
      ]
     },
     "execution_count": 4,
     "metadata": {},
     "output_type": "execute_result"
    }
   ],
   "source": [
    "df_tweet.count()"
   ]
  },
  {
   "cell_type": "markdown",
   "metadata": {},
   "source": [
    "- [ ] Display columns names and then the schema"
   ]
  },
  {
   "cell_type": "code",
   "execution_count": 9,
   "metadata": {},
   "outputs": [
    {
     "data": {
      "text/plain": [
       "['auteur',\n",
       " 'contenu',\n",
       " 'date_creation',\n",
       " 'entities',\n",
       " 'hashtags',\n",
       " 'like_count',\n",
       " 'other',\n",
       " 'reply_count',\n",
       " 'retweet_count']"
      ]
     },
     "execution_count": 9,
     "metadata": {},
     "output_type": "execute_result"
    }
   ],
   "source": [
    "df_tweet.columns"
   ]
  },
  {
   "cell_type": "code",
   "execution_count": 7,
   "metadata": {},
   "outputs": [
    {
     "name": "stdout",
     "output_type": "stream",
     "text": [
      "root\n",
      " |-- auteur: string (nullable = true)\n",
      " |-- contenu: string (nullable = true)\n",
      " |-- date_creation: string (nullable = true)\n",
      " |-- entities: struct (nullable = true)\n",
      " |    |-- annotations: array (nullable = true)\n",
      " |    |    |-- element: struct (containsNull = true)\n",
      " |    |    |    |-- end: long (nullable = true)\n",
      " |    |    |    |-- normalized_text: string (nullable = true)\n",
      " |    |    |    |-- probability: double (nullable = true)\n",
      " |    |    |    |-- start: long (nullable = true)\n",
      " |    |    |    |-- type: string (nullable = true)\n",
      " |    |-- cashtags: array (nullable = true)\n",
      " |    |    |-- element: struct (containsNull = true)\n",
      " |    |    |    |-- end: long (nullable = true)\n",
      " |    |    |    |-- start: long (nullable = true)\n",
      " |    |    |    |-- tag: string (nullable = true)\n",
      " |    |-- hashtags: array (nullable = true)\n",
      " |    |    |-- element: struct (containsNull = true)\n",
      " |    |    |    |-- end: long (nullable = true)\n",
      " |    |    |    |-- start: long (nullable = true)\n",
      " |    |    |    |-- tag: string (nullable = true)\n",
      " |    |-- mentions: array (nullable = true)\n",
      " |    |    |-- element: struct (containsNull = true)\n",
      " |    |    |    |-- end: long (nullable = true)\n",
      " |    |    |    |-- id: string (nullable = true)\n",
      " |    |    |    |-- start: long (nullable = true)\n",
      " |    |    |    |-- username: string (nullable = true)\n",
      " |    |-- urls: array (nullable = true)\n",
      " |    |    |-- element: struct (containsNull = true)\n",
      " |    |    |    |-- description: string (nullable = true)\n",
      " |    |    |    |-- display_url: string (nullable = true)\n",
      " |    |    |    |-- end: long (nullable = true)\n",
      " |    |    |    |-- expanded_url: string (nullable = true)\n",
      " |    |    |    |-- images: array (nullable = true)\n",
      " |    |    |    |    |-- element: struct (containsNull = true)\n",
      " |    |    |    |    |    |-- height: long (nullable = true)\n",
      " |    |    |    |    |    |-- url: string (nullable = true)\n",
      " |    |    |    |    |    |-- width: long (nullable = true)\n",
      " |    |    |    |-- start: long (nullable = true)\n",
      " |    |    |    |-- status: long (nullable = true)\n",
      " |    |    |    |-- title: string (nullable = true)\n",
      " |    |    |    |-- unwound_url: string (nullable = true)\n",
      " |    |    |    |-- url: string (nullable = true)\n",
      " |-- hashtags: array (nullable = true)\n",
      " |    |-- element: string (containsNull = true)\n",
      " |-- like_count: long (nullable = true)\n",
      " |-- other: struct (nullable = true)\n",
      " |    |-- auteur_name: string (nullable = true)\n",
      " |-- reply_count: long (nullable = true)\n",
      " |-- retweet_count: long (nullable = true)\n",
      "\n"
     ]
    }
   ],
   "source": [
    "df_tweet.printSchema()"
   ]
  },
  {
   "cell_type": "markdown",
   "metadata": {},
   "source": [
    "- [ ] Display 10 rows of df_tweet"
   ]
  },
  {
   "cell_type": "code",
   "execution_count": 11,
   "metadata": {},
   "outputs": [
    {
     "name": "stderr",
     "output_type": "stream",
     "text": [
      "[Stage 1:>                                                          (0 + 1) / 1]\r"
     ]
    },
    {
     "name": "stdout",
     "output_type": "stream",
     "text": [
      "+---------------+-------------------------------+--------------------+--------------------+--------+----------+--------------------+-----------+-------------+\n",
      "|         auteur|                        contenu|       date_creation|            entities|hashtags|like_count|               other|reply_count|retweet_count|\n",
      "+---------------+-------------------------------+--------------------+--------------------+--------+----------+--------------------+-----------+-------------+\n",
      "|    xwendystian|           RT @karlarboledas...|2022-03-24T14:59:...|{NULL, NULL, NULL...|      []|         0|            {W🚶‍♀️}|          0|          962|\n",
      "|    suoicilataR|           RT @sooky_co: SLA...|2022-03-24T14:59:...|{NULL, NULL, NULL...|      []|         0|               {Rat}|          0|         3849|\n",
      "|        SatsuOW|           RT @kusujinn: 👻?...|2022-03-24T14:59:...|{NULL, NULL, NULL...|      []|         0|             {Satsu}|          0|         9787|\n",
      "|   birashoboka7|           @Kitona_gold You ...|2022-03-24T14:59:...|{NULL, NULL, NULL...|      []|         0|       {birashoboka}|          0|            0|\n",
      "|    TheRealCzia|           nagugulat ako don...|2022-03-24T14:59:...|{NULL, NULL, NULL...|      []|         0|{Czia is looking ...|          0|            0|\n",
      "|      bbyindrii|           Keknya ni mata ha...|2022-03-24T14:59:...|{NULL, NULL, NULL...|      []|         0|                {🎠}|          0|            0|\n",
      "|          9nns3|なんか深夜2~3時の気分だから寝る|2022-03-24T14:59:...|{NULL, NULL, NULL...|      []|         0|              {ᒣᔰ🍐}|          0|            0|\n",
      "|banbanzai__1140|   @banbanzai_ マジで会いたい。|2022-03-24T14:59:...|{NULL, NULL, NULL...|      []|         0|          {やまもん}|          0|            0|\n",
      "| Sampathreddyk6|           RT @ynakg2: When ...|2022-03-24T14:59:...|{NULL, NULL, NULL...|      []|         0|     {Sampathreddyk}|          0|          838|\n",
      "|ElQueLosCritica|           Uy, el Centro cam...|2022-03-24T14:59:...|{NULL, NULL, NULL...|      []|         0|       {Don Critico}|          0|            0|\n",
      "+---------------+-------------------------------+--------------------+--------------------+--------+----------+--------------------+-----------+-------------+\n",
      "only showing top 10 rows\n",
      "\n"
     ]
    },
    {
     "name": "stderr",
     "output_type": "stream",
     "text": [
      "                                                                                \r"
     ]
    }
   ],
   "source": [
    "df_tweet.show(10)"
   ]
  },
  {
   "cell_type": "markdown",
   "metadata": {},
   "source": [
    "- [ ] Sample `df_tweet` and keep only 10% of it.\n",
    "  - Create a new DataFrame named `df_tweet_sampled`.\n",
    "  - If computations take too long on the full DataFrame, use this one instead or add a sample transformation in your expression. "
   ]
  },
  {
   "cell_type": "code",
   "execution_count": 13,
   "metadata": {
    "vscode": {
     "languageId": "json"
    }
   },
   "outputs": [
    {
     "data": {
      "text/plain": [
       "10145"
      ]
     },
     "execution_count": 13,
     "metadata": {},
     "output_type": "execute_result"
    }
   ],
   "source": [
    "df_tweet_sampled = df_tweet\\\n",
    "  .sample(fraction=0.1)\n",
    "\n",
    "df_tweet_sampled.count()"
   ]
  },
  {
   "cell_type": "markdown",
   "metadata": {},
   "source": [
    "- [ ] Define a DataFrame `tweet_author_hashtags` with only the `auteur` and `hashtags` columns\n",
    "  - [ ] Then display 5 rows"
   ]
  },
  {
   "cell_type": "code",
   "execution_count": 14,
   "metadata": {
    "vscode": {
     "languageId": "json"
    }
   },
   "outputs": [
    {
     "name": "stdout",
     "output_type": "stream",
     "text": [
      "+------------+--------+\n",
      "|      auteur|hashtags|\n",
      "+------------+--------+\n",
      "| xwendystian|      []|\n",
      "| suoicilataR|      []|\n",
      "|     SatsuOW|      []|\n",
      "|birashoboka7|      []|\n",
      "| TheRealCzia|      []|\n",
      "+------------+--------+\n",
      "only showing top 5 rows\n",
      "\n"
     ]
    }
   ],
   "source": [
    "tweet_author_hashtags = df_tweet.select(\"auteur\", \"hashtags\")\n",
    "\n",
    "tweet_author_hashtags.show(5)"
   ]
  },
  {
   "cell_type": "markdown",
   "metadata": {},
   "source": [
    "- [ ] Print 5 lines of a **df_tweet** with only the `auteur`, `mentions`, and `urls` columns.\n",
    "  - `mentions` and `urls` are both nested columns in `entities`"
   ]
  },
  {
   "cell_type": "code",
   "execution_count": 15,
   "metadata": {
    "vscode": {
     "languageId": "json"
    }
   },
   "outputs": [
    {
     "name": "stdout",
     "output_type": "stream",
     "text": [
      "+------------+--------------------+--------------------+\n",
      "|      auteur|            mentions|                urls|\n",
      "+------------+--------------------+--------------------+\n",
      "| xwendystian|[{17, 11851291015...|                NULL|\n",
      "| suoicilataR|[{12, 14533927358...|[{NULL, pic.twitt...|\n",
      "|     SatsuOW|[{12, 11935477705...|[{NULL, pic.twitt...|\n",
      "|birashoboka7|[{12, 14860437391...|                NULL|\n",
      "| TheRealCzia|                NULL|                NULL|\n",
      "+------------+--------------------+--------------------+\n",
      "only showing top 5 rows\n",
      "\n"
     ]
    }
   ],
   "source": [
    "df_tweet\\\n",
    "  .select(\"auteur\", \n",
    "          \"entities.mentions\", \n",
    "          \"entities.urls\")\\\n",
    "  .show(5)"
   ]
  },
  {
   "cell_type": "markdown",
   "metadata": {},
   "source": [
    "- [ ] Filter **df_tweet** and keep only tweets with more than 1 like.\n",
    "  - [ ] Display only `auteur`, `contenu` and `like_count`\n",
    "  - [ ] Print 10 lines"
   ]
  },
  {
   "cell_type": "code",
   "execution_count": 16,
   "metadata": {},
   "outputs": [
    {
     "name": "stdout",
     "output_type": "stream",
     "text": [
      "+---------------+------------------------------------+--------------------+--------------------+---------+----------+--------------------------------+-----------+-------------+\n",
      "|         auteur|                             contenu|       date_creation|            entities| hashtags|like_count|                           other|reply_count|retweet_count|\n",
      "+---------------+------------------------------------+--------------------+--------------------+---------+----------+--------------------------------+-----------+-------------+\n",
      "|      DZero_SYS|                @blueberry_lin 🖥...|2022-03-24T14:59:...|{NULL, NULL, NULL...|       []|         1|               {포켓워치 시스템}|          0|            0|\n",
      "|exusial_Penguin|            @Hano_Braves へぇ、い...|2022-03-24T14:59:...|{NULL, NULL, NULL...|       []|         1|                      {エクシア}|          0|            0|\n",
      "|      queend236|                @dayytonerr I try...|2022-03-24T14:59:...|{NULL, NULL, NULL...|       []|         1|            {ungrateful house...|          0|            0|\n",
      "|      ProBarron|                   ✋#Bitcoin forever|2022-03-24T14:59:...|{NULL, NULL, [{9,...|[Bitcoin]|         1|                        {Barron}|          0|            0|\n",
      "|enaha1648133622|                Acting is happy a...|2022-03-24T14:59:...|{NULL, NULL, NULL...|       []|         1|              {vineethmintu🌸🌹}|          1|            0|\n",
      "|rwyva1648133803|                Love does not alw...|2022-03-24T14:59:...|{NULL, NULL, NULL...|       []|         1|            {ﻜٕوِدًْٓ• ‏ﺧٕٓصٍمٍ}|          1|            0|\n",
      "|        nhoyvck|                   @jenoleeader meee|2022-03-24T14:59:...|{NULL, NULL, NULL...|       []|         1|                             {ً}|          0|            0|\n",
      "|  Takajyura9_36|ちーぼー、まりこPお疲れさまでした...|2022-03-24T14:59:...|{NULL, NULL, [{71...| [mp2000]|         1|                 {たかじゅら～☆}|          0|            0|\n",
      "|       Nexion17|                @pizdets17 Even T...|2022-03-24T14:59:...|{[{22, Trudeau, 0...|       []|         1|                    {Trader Nex}|          0|            0|\n",
      "|MyTomoya_030329|   뮈지? 제광기에 놀라서 두명이나...|2022-03-24T14:59:...|{NULL, NULL, NULL...|       []|         1|{브레이크다나❤️브레이크다나🧡...|          0|            0|\n",
      "+---------------+------------------------------------+--------------------+--------------------+---------+----------+--------------------------------+-----------+-------------+\n",
      "only showing top 10 rows\n",
      "\n"
     ]
    }
   ],
   "source": [
    "df_tweet\\\n",
    "  .filter(df_tweet.like_count >= 1)\\\n",
    "  .show(10)"
   ]
  },
  {
   "cell_type": "markdown",
   "metadata": {},
   "source": [
    "## 5. Basic DataFrame column manipulation \n",
    "\n",
    "You can add/update/rename column of a DataFrame using **spark** :\n",
    "\n",
    "- Drop : `df.drop(columnName : str )`\n",
    "- Rename : `df.withColumnRenamed(oldName : str, newName : str)`\n",
    "- Add/update : `df.withColumn(columnName : str, columnExpression)` \n",
    "\n",
    "For example\n",
    "\n",
    "```python\n",
    "df_tweet\\\n",
    "  .withColumn(                                        # computes new variable\n",
    "    \"like_rt_ratio\",                                  # like_rt_ratio \"OVERCONFIDENCE\"\n",
    "    df_tweet.like_count /df_tweet.retweet_count)\n",
    "```\n",
    "\n",
    "See **[here](https://spark.apache.org/docs/3.1.1/api/python/reference/pyspark.sql.html#functions)** for the list of all functions available in an expression.\n",
    "\n",
    "### ✍Hands-on 3 - Basic DataFrame column manipulation  \n",
    "\n",
    "- [ ] Define a DataFrame with a column names `interaction_count` named `df_tweet_interaction_count`\n",
    "  - This column is the sum of `like_count`, `reply_count` and `retweet_count`."
   ]
  },
  {
   "cell_type": "code",
   "execution_count": 17,
   "metadata": {
    "vscode": {
     "languageId": "json"
    }
   },
   "outputs": [
    {
     "name": "stdout",
     "output_type": "stream",
     "text": [
      "+--------------+-------------------------------------+--------------------+---------------------------+--------------------------------+----------+-----------+-------------+-----------------+\n",
      "|        auteur|                              contenu|       date_creation|                   entities|                        hashtags|like_count|reply_count|retweet_count|interaction_count|\n",
      "+--------------+-------------------------------------+--------------------+---------------------------+--------------------------------+----------+-----------+-------------+-----------------+\n",
      "|      Unif1992|                 kalıplaşmış #beyo...|2022-03-24T14:59:...|       {NULL, NULL, [{20...|                       [beyoğlu]|         1|          0|            2|                3|\n",
      "|    moonknight|                 The wait is almos...|2022-03-24T15:00:...|       {[{40, Marvel Stu...|                    [MoonKnight]|        16|          0|            2|               18|\n",
      "|         B04Zw|                #PayPay\\n#PayPayル...|2022-03-24T15:00:...|       {NULL, NULL, [{7,...|          [PayPay, PayPayルー...|         2|          0|            1|                3|\n",
      "|   SoulTide_JP|  #ソウルタイド リリース記念キャン...|2022-03-24T15:00:...|       {NULL, NULL, [{7,...|  [ソウルタイド, フォローRT, ...|         3|          0|           20|               23|\n",
      "|       strk1dz|                 happy 4th anniver...|2022-03-24T15:00:...|       {NULL, NULL, [{11...|[스키즈와_발맞춰걷는_4번째길,...|         2|          0|            1|                3|\n",
      "|  HALUKA_EIMIE| 大好きなおじょお誕生日おめでとう?...|2022-03-24T15:00:...|       {NULL, NULL, NULL...|                              []|         2|          0|            1|                3|\n",
      "|cubesugar03196|             樋口円香 https://t.co...|2022-03-24T15:00:...|       {NULL, NULL, NULL...|                              []|         2|          0|            1|                3|\n",
      "|  hokuoukizoku| 北欧貴族と猛禽妻の雪国狩り暮らし\\...|2022-03-24T15:00:...|{[{45, あかねこ先生 78話...|                              []|         1|          0|            1|                2|\n",
      "|   iRis_a_himi|みんなありがとう！茜屋ちゃーんと元...|2022-03-24T15:01:...|       {NULL, NULL, NULL...|                              []|        17|          0|            3|               20|\n",
      "| tarun25812648|                 @ImRealScout Bro ...|2022-03-24T15:01:...|       {NULL, NULL, NULL...|                              []|         1|          0|            1|                2|\n",
      "+--------------+-------------------------------------+--------------------+---------------------------+--------------------------------+----------+-----------+-------------+-----------------+\n",
      "only showing top 10 rows\n",
      "\n"
     ]
    }
   ],
   "source": [
    "df_tweet_interaction_count = df_tweet\\\n",
    "  .drop(\"other\")\\\n",
    "  .filter(df_tweet.like_count >= 1)\\\n",
    "  .filter(df_tweet.retweet_count >= 1)\\\n",
    "  .withColumn(\n",
    "    \"interaction_count\",\n",
    "    df_tweet.like_count + df_tweet.reply_count + df_tweet.retweet_count)\n",
    "\n",
    "df_tweet_interaction_count\\\n",
    "  .show(10)"
   ]
  },
  {
   "cell_type": "markdown",
   "metadata": {},
   "source": [
    "- [ ] Update the DataFrame you imported at the beginning of this lab and drop the `other` column"
   ]
  },
  {
   "cell_type": "code",
   "execution_count": 18,
   "metadata": {
    "vscode": {
     "languageId": "json"
    }
   },
   "outputs": [
    {
     "name": "stdout",
     "output_type": "stream",
     "text": [
      "+---------------+-------------------------------+--------------------+--------------------+--------+----------+-----------+-------------+\n",
      "|         auteur|                        contenu|       date_creation|            entities|hashtags|like_count|reply_count|retweet_count|\n",
      "+---------------+-------------------------------+--------------------+--------------------+--------+----------+-----------+-------------+\n",
      "|    xwendystian|           RT @karlarboledas...|2022-03-24T14:59:...|{NULL, NULL, NULL...|      []|         0|          0|          962|\n",
      "|    suoicilataR|           RT @sooky_co: SLA...|2022-03-24T14:59:...|{NULL, NULL, NULL...|      []|         0|          0|         3849|\n",
      "|        SatsuOW|           RT @kusujinn: 👻?...|2022-03-24T14:59:...|{NULL, NULL, NULL...|      []|         0|          0|         9787|\n",
      "|   birashoboka7|           @Kitona_gold You ...|2022-03-24T14:59:...|{NULL, NULL, NULL...|      []|         0|          0|            0|\n",
      "|    TheRealCzia|           nagugulat ako don...|2022-03-24T14:59:...|{NULL, NULL, NULL...|      []|         0|          0|            0|\n",
      "|      bbyindrii|           Keknya ni mata ha...|2022-03-24T14:59:...|{NULL, NULL, NULL...|      []|         0|          0|            0|\n",
      "|          9nns3|なんか深夜2~3時の気分だから寝る|2022-03-24T14:59:...|{NULL, NULL, NULL...|      []|         0|          0|            0|\n",
      "|banbanzai__1140|   @banbanzai_ マジで会いたい。|2022-03-24T14:59:...|{NULL, NULL, NULL...|      []|         0|          0|            0|\n",
      "| Sampathreddyk6|           RT @ynakg2: When ...|2022-03-24T14:59:...|{NULL, NULL, NULL...|      []|         0|          0|          838|\n",
      "|ElQueLosCritica|           Uy, el Centro cam...|2022-03-24T14:59:...|{NULL, NULL, NULL...|      []|         0|          0|            0|\n",
      "+---------------+-------------------------------+--------------------+--------------------+--------+----------+-----------+-------------+\n",
      "only showing top 10 rows\n",
      "\n"
     ]
    }
   ],
   "source": [
    "df_tweet\\\n",
    "  .drop(\"other\")\\\n",
    "  .show(10)"
   ]
  },
  {
   "cell_type": "markdown",
   "metadata": {},
   "source": [
    "## 6. Advance DataFrame column manipulation \n",
    "\n",
    "### Array manipulation\n",
    "\n",
    "Some columns often contain arrays (lists) of values instead of just one value. This may seem surprising but this actually quite natural.  \n",
    "For instance, you may create an array of words from a text, or generate a list of random numbers for each observation, etc.\n",
    "\n",
    "You may **create array of values** with:\n",
    "\n",
    "- `split(text : string, delimiter : string)`, turning a text into an array of strings\n",
    "\n",
    "You may **use array of values** with:\n",
    "\n",
    "- `size(array : Array)`, getting the number of elements\n",
    "- `array_contains(inputArray : Array, value : any)`, checking if some value appears\n",
    "- `explode(array : Array)`, unnesting an array and duplicating other values. For instance if you use `explode()` over the hashtags value of this DataFrame:\n",
    "\n",
    "  | Auteur | Contenu                             | Hashtags         |\n",
    "  | ------ | ----------------------------------- | ---------------- |\n",
    "  | Bob    | I love #Spark and #bigdata          | [Spark, bigdata] |\n",
    "  | Alice  | Just finished #MHrise, best MH ever | [MHrise]         |\n",
    "\n",
    "  You will get :\n",
    "\n",
    "  | Auteur | Contenu                             | Hashtags         | Hashtag |\n",
    "  | ------ | ----------------------------------- | ---------------- | ------- |\n",
    "  | Bob    | I love #Spark and #bigdata          | [Spark, bigdata] | Spark   |\n",
    "  | Bob    | I love #Spark and #bigdata          | [Spark, bigdata] | bigdata |\n",
    "  | Alice  | Just finished #MHrise, best MH ever | [MHrise]         | MHrise  |\n",
    "\n",
    "  \n",
    "\n",
    "All this functions must be imported first :\n",
    "\n",
    "```python\n",
    "from pyspark.sql.functions import split, explode, size, array_contains\n",
    "```\n",
    "\n",
    "Do not forget, to create a new column, you should use `withColumn()`. For example : \n",
    "\n",
    "```python\n",
    "df.withColumn(\"new column\", explode(\"array\"))\n",
    "```\n",
    "\n",
    "#### ✍Hands-on 4 - Array manipulation \n",
    "\n",
    "- [ ] Keep all the tweets with hashtags and for each remaining line, split the hashtag text into an array of hashtags"
   ]
  },
  {
   "cell_type": "code",
   "execution_count": 19,
   "metadata": {
    "vscode": {
     "languageId": "json"
    }
   },
   "outputs": [
    {
     "name": "stdout",
     "output_type": "stream",
     "text": [
      "+------------+-----------------------+--------------------+----------------------------+---------------------+----------+--------------------+-----------+-------------+-----------------+\n",
      "|      auteur|                contenu|       date_creation|                    entities|             hashtags|like_count|               other|reply_count|retweet_count| hashtag_exploded|\n",
      "+------------+-----------------------+--------------------+----------------------------+---------------------+----------+--------------------+-----------+-------------+-----------------+\n",
      "|     GIimoto|RT @aabbeecc: 日本コ...|2022-03-24T14:59:...|{[{21, 日本コカ・コーラ, ...|[utamaru, コークオン]|         0|       {g.orchestra}|          0|            4|          utamaru|\n",
      "|     GIimoto|RT @aabbeecc: 日本コ...|2022-03-24T14:59:...|{[{21, 日本コカ・コーラ, ...|[utamaru, コークオン]|         0|       {g.orchestra}|          0|            4|       コークオン|\n",
      "|  MEWWhiskey|   📍เปิดหาร nct dre...|2022-03-24T14:59:...|        {NULL, NULL, [{14...| [ตลาดนัดnctdream,...|         0|{♡‧₊˚𝑱𝑱𝑴 .◜◡◝ ...|          0|            0|  ตลาดนัดnctdream|\n",
      "|  MEWWhiskey|   📍เปิดหาร nct dre...|2022-03-24T14:59:...|        {NULL, NULL, [{14...| [ตลาดนัดnctdream,...|         0|{♡‧₊˚𝑱𝑱𝑴 .◜◡◝ ...|          0|            0|       ตลาดนัดnct|\n",
      "|     1Giga23|   RT @blackboy: نيا...|2022-03-24T14:59:...|        {NULL, NULL, [{37...| [مليونية24مارس, م...|         0|         {Giga Rawi}|          0|           10|    مليونية24مارس|\n",
      "|     1Giga23|   RT @blackboy: نيا...|2022-03-24T14:59:...|        {NULL, NULL, [{37...| [مليونية24مارس, م...|         0|         {Giga Rawi}|          0|           10|مدن_السودان_تنتفض|\n",
      "|  XiynZeOrdo|   RT @AFP: #BREAKIN...|2022-03-24T14:59:...|        {[{83, Luhansk, 0...|           [BREAKING]|         0|{ORDOÄ 🇯🇲 🇺🇦 ...|          0|           30|         BREAKING|\n",
      "|    clyennie|   @NJARCHIVED House...|2022-03-24T14:59:...|        {NULL, NULL, [{55...|    [Fluffy_Kuma_Day]|         0|                {≈≈}|          0|            0|  Fluffy_Kuma_Day|\n",
      "|smithxgianna|   I can't wait to u...|2022-03-24T14:59:...|        {NULL, [{189, 185...| [Blockchain, NFT,...|         0|      {Gianna Smith}|          0|            0|       Blockchain|\n",
      "|smithxgianna|   I can't wait to u...|2022-03-24T14:59:...|        {NULL, [{189, 185...| [Blockchain, NFT,...|         0|      {Gianna Smith}|          0|            0|              NFT|\n",
      "+------------+-----------------------+--------------------+----------------------------+---------------------+----------+--------------------+-----------+-------------+-----------------+\n",
      "only showing top 10 rows\n",
      "\n"
     ]
    }
   ],
   "source": [
    "from pyspark.sql.functions import split, explode, size, array_contains\n",
    "\n",
    "df_tweet\\\n",
    "  .filter(size(\"hashtags\") > 0)\\\n",
    "  .withColumn(\n",
    "    \"hashtag_exploded\",\n",
    "    explode(\"hashtags\"))\\\n",
    "  .show(10)"
   ]
  },
  {
   "cell_type": "markdown",
   "metadata": {},
   "source": [
    "- [ ] Create a new column with the number of words of the `contenu` column. (Use `split()` + `size()`)"
   ]
  },
  {
   "cell_type": "code",
   "execution_count": 20,
   "metadata": {
    "vscode": {
     "languageId": "json"
    }
   },
   "outputs": [
    {
     "name": "stdout",
     "output_type": "stream",
     "text": [
      "+------------+--------------------+--------------------+--------------------+--------+----------+--------------------+-----------+-------------+----------+\n",
      "|      auteur|             contenu|       date_creation|            entities|hashtags|like_count|               other|reply_count|retweet_count|word_count|\n",
      "+------------+--------------------+--------------------+--------------------+--------+----------+--------------------+-----------+-------------+----------+\n",
      "| xwendystian|RT @karlarboledas...|2022-03-24T14:59:...|{NULL, NULL, NULL...|      []|         0|            {W🚶‍♀️}|          0|          962|         7|\n",
      "| suoicilataR|RT @sooky_co: SLA...|2022-03-24T14:59:...|{NULL, NULL, NULL...|      []|         0|               {Rat}|          0|         3849|         7|\n",
      "|     SatsuOW|RT @kusujinn: 👻?...|2022-03-24T14:59:...|{NULL, NULL, NULL...|      []|         0|             {Satsu}|          0|         9787|         4|\n",
      "|birashoboka7|@Kitona_gold You ...|2022-03-24T14:59:...|{NULL, NULL, NULL...|      []|         0|       {birashoboka}|          0|            0|        20|\n",
      "| TheRealCzia|nagugulat ako don...|2022-03-24T14:59:...|{NULL, NULL, NULL...|      []|         0|{Czia is looking ...|          0|            0|        16|\n",
      "+------------+--------------------+--------------------+--------------------+--------+----------+--------------------+-----------+-------------+----------+\n",
      "only showing top 5 rows\n",
      "\n"
     ]
    }
   ],
   "source": [
    "df_tweet\\\n",
    "  .withColumn(\"word_count\", \n",
    "              size(split(\"contenu\", \" \")))\\\n",
    "  .show(5)"
   ]
  },
  {
   "cell_type": "markdown",
   "metadata": {},
   "source": [
    "- [ ] Count how many tweet contain the `Ukraine` hashtag (use the `count()` action)"
   ]
  },
  {
   "cell_type": "code",
   "execution_count": 21,
   "metadata": {
    "vscode": {
     "languageId": "json"
    }
   },
   "outputs": [
    {
     "data": {
      "text/plain": [
       "35"
      ]
     },
     "execution_count": 21,
     "metadata": {},
     "output_type": "execute_result"
    }
   ],
   "source": [
    "df_tweet\\\n",
    "  .filter(array_contains(\"hashtags\", \"Ukraine\"))\\\n",
    "  .count()"
   ]
  },
  {
   "cell_type": "markdown",
   "metadata": {},
   "source": [
    "### User defined function\n",
    "\n",
    "For more very specific column manipulation you will need Spark's `udf()` function (*User Defined Function*). It can be useful if Spark does not provide a feature you want. But Spark is a popular and active project, so before coding an udf, go check the documentation. For instance for natural language processing, Spark already has some [functions](https://spark.apache.org/docs/3.1.1/api/python/reference/api/pyspark.ml.feature.Tokenizer.html#pyspark.ml.feature.Tokenizer). Last things, python udf can lead to performance issues (see https://stackoverflow.com/a/38297050) and learning a little bit of scala or java can be a good idea.\n",
    "\n",
    "For example :\n",
    "\n",
    "```python\n",
    "# !!!! DOES NOT WORK !!!!\n",
    "def to_lower_case(string):\n",
    "\treturn string.lower()\n",
    "\t\n",
    "df.withColumn(\"tweet_lower_case\", to_lower_case(df.contenu))\n",
    "```\n",
    "\n",
    "will just crash. Keep in mind that Spark is a distributed system, and that Python is only installed on the central node, as a convenience to let you execute instructions on the executor nodes. But by default, pure Python functions can only be executed where Python is installed! We need `udf()` to enable Spark to send Python instructions to the worker nodes.\n",
    "\n",
    "Let us see how it is done :\n",
    "\n",
    "```python\n",
    "# imports\n",
    "from pyspark.sql.functions import udf\n",
    "from pyspark.sql.functions import explode\n",
    "from pyspark.sql.types import StringType\n",
    "\n",
    "# pure python functions\n",
    "def to_lower_case(string):\n",
    "    return string.lower()\n",
    "\n",
    "# user defined function(we use a lambda function to create the udf)\n",
    "to_lower_case_udf = udf(\n",
    "    lambda x: to_lower_case(x), StringType()\n",
    ")\n",
    "\n",
    "# df manipulation\n",
    "df_tweet_small\\\n",
    "  .select(\"auteur\",\"hashtags\")\\\n",
    "  .filter(\"size(hashtags)!=0\")\\\n",
    "  .withColumn(\"hashtag\", explode(\"hashtags\"))\\\n",
    "  .withColumn(\"hashtag\", to_lower_case_udf(\"hashtag\")).show(10)\n",
    "```\n",
    "\n",
    "---\n",
    "\n",
    "#### ✍Hands-on 5 - User defined function \n",
    "\n",
    "- [ ] Create an user defined function that counts how many words a tweet contains.\n",
    "  - your function will return an `IntegerType` and not a `StringType`"
   ]
  },
  {
   "cell_type": "code",
   "execution_count": 22,
   "metadata": {
    "vscode": {
     "languageId": "json"
    }
   },
   "outputs": [
    {
     "name": "stderr",
     "output_type": "stream",
     "text": [
      "[Stage 19:>                                                         (0 + 1) / 1]\r"
     ]
    },
    {
     "name": "stdout",
     "output_type": "stream",
     "text": [
      "+---------------+-------------------------------+--------------------+--------------------+--------+----------+--------------------+-----------+-------------+----------+\n",
      "|         auteur|                        contenu|       date_creation|            entities|hashtags|like_count|               other|reply_count|retweet_count|word_count|\n",
      "+---------------+-------------------------------+--------------------+--------------------+--------+----------+--------------------+-----------+-------------+----------+\n",
      "|    xwendystian|           RT @karlarboledas...|2022-03-24T14:59:...|{NULL, NULL, NULL...|      []|         0|            {W🚶‍♀️}|          0|          962|         7|\n",
      "|    suoicilataR|           RT @sooky_co: SLA...|2022-03-24T14:59:...|{NULL, NULL, NULL...|      []|         0|               {Rat}|          0|         3849|         7|\n",
      "|        SatsuOW|           RT @kusujinn: 👻?...|2022-03-24T14:59:...|{NULL, NULL, NULL...|      []|         0|             {Satsu}|          0|         9787|         4|\n",
      "|   birashoboka7|           @Kitona_gold You ...|2022-03-24T14:59:...|{NULL, NULL, NULL...|      []|         0|       {birashoboka}|          0|            0|        20|\n",
      "|    TheRealCzia|           nagugulat ako don...|2022-03-24T14:59:...|{NULL, NULL, NULL...|      []|         0|{Czia is looking ...|          0|            0|        16|\n",
      "|      bbyindrii|           Keknya ni mata ha...|2022-03-24T14:59:...|{NULL, NULL, NULL...|      []|         0|                {🎠}|          0|            0|        12|\n",
      "|          9nns3|なんか深夜2~3時の気分だから寝る|2022-03-24T14:59:...|{NULL, NULL, NULL...|      []|         0|              {ᒣᔰ🍐}|          0|            0|         1|\n",
      "|banbanzai__1140|   @banbanzai_ マジで会いたい。|2022-03-24T14:59:...|{NULL, NULL, NULL...|      []|         0|          {やまもん}|          0|            0|         2|\n",
      "| Sampathreddyk6|           RT @ynakg2: When ...|2022-03-24T14:59:...|{NULL, NULL, NULL...|      []|         0|     {Sampathreddyk}|          0|          838|        25|\n",
      "|ElQueLosCritica|           Uy, el Centro cam...|2022-03-24T14:59:...|{NULL, NULL, NULL...|      []|         0|       {Don Critico}|          0|            0|         8|\n",
      "+---------------+-------------------------------+--------------------+--------------------+--------+----------+--------------------+-----------+-------------+----------+\n",
      "only showing top 10 rows\n",
      "\n"
     ]
    },
    {
     "name": "stderr",
     "output_type": "stream",
     "text": [
      "                                                                                \r"
     ]
    }
   ],
   "source": [
    "# imports\n",
    "from pyspark.sql.functions import udf\n",
    "from pyspark.sql.types import IntegerType\n",
    "\n",
    "# pure python functions\n",
    "def word_count(string):\n",
    "    return len(string.split(\" \"))\n",
    "\n",
    "# user definid function\n",
    "word_count_udf = udf(\n",
    "    lambda x: word_count(x), IntegerType()\n",
    ")\n",
    "\n",
    "# df manipulation\n",
    "df_tweet\\\n",
    "  .withColumn(\"word_count\", \n",
    "              word_count_udf(\"contenu\"))\\\n",
    "  .show(10)"
   ]
  },
  {
   "cell_type": "markdown",
   "metadata": {},
   "source": [
    "## 7. Aggregation functions\n",
    "\n",
    "Spark offer a variety of aggregation functions :\n",
    "\n",
    "- `count(column : string)` will count every not null value of the specify column. You cant use `count(1)` of `count(\"*\")` to count every line (even row with only null values)\n",
    "\n",
    "- `countDisctinct(column : string)` and `approx_count_distinct(column : string, percent_error: float)`. If the exact number is irrelevant, `approx_count_distinct()`should be preferred.\n",
    "\n",
    "  Counting distinct elements cannot be done in parallel, and need a lot data transfer. But if you only need an approximation, there is a algorithm, named hyper-log-log (more info [here](https://databricks.com/fr/blog/2016/05/19/approximate-algorithms-in-apache-spark-hyperloglog-and-quantiles.html)) that can be parallelized. \n",
    "\n",
    "  ```python\n",
    "  from pyspark.sql.functions import count, countDistinct, approx_count_distinct\n",
    "  \n",
    "  df.select(count(\"col1\")).show()\n",
    "  df.select(countDistinct(\"col1\")).show()\n",
    "  df.select(approx_count_distinct(\"col1\"), 0.1).show()\n",
    "  ```\n",
    "\n",
    "- You have access to all other common functions `min()`, `max()`, `first()`, `last()`, `sum()`, `sumDistinct()`, `avg()` etc (you should import them first `from pyspark.sql.functions import min, max, avg, first, last, sum, sumDistinct`) \n",
    "\n",
    "---\n",
    "\n",
    "### ✍Hands-on 6 - Aggregation functions\n",
    "\n",
    "- [ ] What are the min, max, average of `interaction_count` (use `df_tweet_interaction_count` created earlier)\n",
    "  - don't forget to import the required functions"
   ]
  },
  {
   "cell_type": "code",
   "execution_count": 23,
   "metadata": {
    "vscode": {
     "languageId": "json"
    }
   },
   "outputs": [
    {
     "data": {
      "text/plain": [
       "Row(min(interaction_count)=2, max(interaction_count)=3130, avg(interaction_count)=56.883720930232556)"
      ]
     },
     "execution_count": 23,
     "metadata": {},
     "output_type": "execute_result"
    }
   ],
   "source": [
    "from pyspark.sql.functions import min, max, avg, first, last, sum, sumDistinct\n",
    "\n",
    "df_tweet_interaction_count\\\n",
    "  .select(min(\"interaction_count\"),\n",
    "          max(\"interaction_count\"),\n",
    "          avg(\"interaction_count\"))\\\n",
    "  .first()"
   ]
  },
  {
   "cell_type": "markdown",
   "metadata": {},
   "source": [
    "- [ ] How many tweets have hashtags ?\n",
    "  - [ ] Distinct hashtags ?\n",
    "  - [ ] Try the approximative count with 0.1 and 0.01 as maximum estimation error allowed."
   ]
  },
  {
   "cell_type": "code",
   "execution_count": 24,
   "metadata": {
    "vscode": {
     "languageId": "json"
    }
   },
   "outputs": [
    {
     "name": "stderr",
     "output_type": "stream",
     "text": [
      "[Stage 25:>                                                         (0 + 1) / 1]\r"
     ]
    },
    {
     "name": "stdout",
     "output_type": "stream",
     "text": [
      "+---------------+------------------------+-------------------------------+-------------------------------+\n",
      "|count(hashtags)|count(DISTINCT hashtags)|approx_count_distinct(hashtags)|approx_count_distinct(hashtags)|\n",
      "+---------------+------------------------+-------------------------------+-------------------------------+\n",
      "|         100000|                    9320|                           7826|                           9342|\n",
      "+---------------+------------------------+-------------------------------+-------------------------------+\n",
      "\n"
     ]
    },
    {
     "name": "stderr",
     "output_type": "stream",
     "text": [
      "                                                                                \r"
     ]
    }
   ],
   "source": [
    "from pyspark.sql.functions import count, countDistinct, approx_count_distinct\n",
    "\n",
    "df_tweet\\\n",
    "  .select(count(\"hashtags\"), \n",
    "          countDistinct(\"hashtags\"), \n",
    "          approx_count_distinct(\"hashtags\", 0.1), \n",
    "          approx_count_distinct(\"hashtags\",0.01))\\\n",
    "  .show()"
   ]
  },
  {
   "cell_type": "markdown",
   "metadata": {},
   "source": [
    "## 8. Grouping functions\n",
    "\n",
    "Like SQL you can group row by a criteria with Spark. Just use the `groupBy(column : string)` method. Then you can compute some aggregation over those groups.\n",
    "\n",
    "```python\n",
    "df\\\n",
    "  .groupBy(\"col1\")\\\n",
    "  .agg(count(\"col2\").alias(\"quantity\"))\\           # alias is use to specify the name of the new column\n",
    "  .show() \n",
    "```\n",
    "\n",
    "The `agg()` method can take multiples argument to compute multiple aggregation at once.\n",
    "\n",
    "```python\n",
    "df\\\n",
    "  .groupBy(\"col1\")\\\n",
    "  .agg(count(\"col2\").alias(\"quantity\"), \n",
    "       min(\"col2\").alias(\"min\"), \n",
    "       avg(\"col3\").alias(\"avg3\"))\\\n",
    "  .show()\n",
    "```\n",
    "\n",
    "Aggregation and grouping transformations work differently than the previous method like `filter()`, `select()`, `withColumn()` etc. Those transformations cannot be run over each partitions in parallel, and need to transfer data between partitions and executors.  They are called \"wide transformations\"\n",
    "\n",
    "<img src=\"img/spark_exemple2_pipeline.png\" style=\"zoom:50%;\" />\n",
    "\n",
    "### ✍Hands-on 7 - Grouping functions\n",
    "\n",
    "- [ ] Compute a daframe with the min, max and average retweet of each `auteur`.\n",
    "  - [ ] Then order it by the max number of retweet in descending order by .\n",
    "  - To do that you can use the following syntax\n",
    "\n",
    "  ```python\n",
    "  from pyspark.sql.functions import desc\n",
    "  df.orderBy(desc(\"col\"))\n",
    "  ```"
   ]
  },
  {
   "cell_type": "code",
   "execution_count": null,
   "metadata": {},
   "outputs": [],
   "source": [
    "from pyspark.sql.functions import desc\n",
    "\n",
    "df_tweet\\\n",
    "  .groupBy(\"auteur\")\\\n",
    "  .agg(min(\"retweet_count\").alias(\"min_RT\"), \n",
    "       max(\"retweet_count\").alias(\"max_RT\"), \n",
    "       avg(\"retweet_count\").alias(\"avg_RT\"))\\\n",
    "  .orderBy(desc(\"max_RT\"))\\\n",
    "  .show(5)"
   ]
  },
  {
   "cell_type": "markdown",
   "metadata": {},
   "source": [
    "## 9. Spark SQL\n",
    "\n",
    "Spark understand SQL statement. It's not a hack nor a workaround to use SQL in Spark, it's one a the more powerful feature in Spark. To use SQL you will need :\n",
    "\n",
    "1. Register a view pointing to your DataFrame\n",
    "\n",
    "   ```python\n",
    "   my_df.createOrReplaceTempView(viewName : str)\n",
    "   ```\n",
    "\n",
    "2. Use the sql function\n",
    "\n",
    "   ```python\n",
    "   spark.sql(\"\"\"\n",
    "   Your SQL statement\n",
    "   \"\"\")\n",
    "   ```\n",
    "\n",
    "   You could manipulate every registered DataFrame by their view name with plain SQL.\n",
    "\n",
    "In fact you can do most of this tutorial without any knowledge in PySpark nor Spark.  \n",
    "Many things can only be done in Spark if you know SQL and how to use it in Spark. \n",
    "\n",
    "### ✍Hands-on 8 - Spark SQL\n",
    "\n",
    "- [ ] How many tweets have hashtags ?\n",
    "  - [ ] Distinct hashtags ? "
   ]
  },
  {
   "cell_type": "code",
   "execution_count": null,
   "metadata": {},
   "outputs": [],
   "source": [
    "df_tweet\\\n",
    "  .select(\"contenu\", \"hashtags\")\\\n",
    "  .createOrReplaceTempView(\"view_hashtag_content\")\n",
    "\n",
    "spark.sql(\"\"\"\n",
    "SELECT COUNT(*), \n",
    "       COUNT(DISTINCT(contenu))\n",
    "  FROM view_hashtag_content\n",
    " WHERE size(hashtags) > 0\n",
    "\"\"\")\\\n",
    "  .show(5)"
   ]
  },
  {
   "cell_type": "markdown",
   "metadata": {},
   "source": [
    "- [ ] Compute a dataframe with the min, max and average retweet of each `auteur` using Spark SQL"
   ]
  },
  {
   "cell_type": "code",
   "execution_count": null,
   "metadata": {},
   "outputs": [],
   "source": [
    "df_tweet.createOrReplaceTempView(\"view_tweet\")\n",
    "\n",
    "spark.sql(\"\"\"\n",
    "SELECT min(retweet_count), \n",
    "       max(retweet_count), \n",
    "       avg(retweet_count)\n",
    "  FROM view_tweet\n",
    " GROUP BY auteur\n",
    " ORDER BY MAX(retweet_count) DESC\n",
    "\"\"\")\\\n",
    "  .show(5)"
   ]
  },
  {
   "cell_type": "markdown",
   "metadata": {},
   "source": [
    "# 10. Delete the Jupyter-pyspark service\n",
    "\n",
    "* [ ] Export your notebook\n",
    "  - Right clic and Download (.ipynb)\n",
    "  - File > Save and Export Notebook > HTML\n",
    "* https://datalab.sspcloud.fr/my-services\n"
   ]
  }
 ],
 "metadata": {
  "kernelspec": {
   "display_name": "Python 3 (ipykernel)",
   "language": "python",
   "name": "python3"
  },
  "language_info": {
   "codemirror_mode": {
    "name": "ipython",
    "version": 3
   },
   "file_extension": ".py",
   "mimetype": "text/x-python",
   "name": "python",
   "nbconvert_exporter": "python",
   "pygments_lexer": "ipython3",
   "version": "3.10.13"
  }
 },
 "nbformat": 4,
 "nbformat_minor": 4
}
