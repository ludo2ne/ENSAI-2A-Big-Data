{
  "cells": [
    {
      "cell_type": "markdown",
      "metadata": {},
      "source": [
        "# First steps with Spark - Correction\n",
        "\n",
        "## Before you start\n",
        "\n",
        "-   [ ] Download this\n",
        "    <a href=\"lab1-SSPCloud.ipynb\" target=\"_blank\">Jupyter Notebook</a>\n",
        "-   [ ] Follow these\n",
        "    <a href=\"../lab-setup.qmd\" target=\"_blank\">instructions</a>\n",
        "\n",
        "## 1 Create a Spark session\n",
        "\n",
        "-   [ ] Execute the following two cells to initialize a Spark session."
      ],
      "id": "2a1630a7-072f-48b7-b39d-89168bb4d060"
    },
    {
      "cell_type": "code",
      "execution_count": 1,
      "metadata": {
        "tags": [],
        "vscode": {
          "languageId": "json"
        }
      },
      "outputs": [],
      "source": [
        "import os\n",
        "from pyspark.sql import SparkSession\n",
        "\n",
        "spark = (SparkSession\n",
        "         .builder\n",
        "         # default url of the internally accessed Kubernetes API\n",
        "         # (This Jupyter notebook service is itself a Kubernetes Pod)\n",
        "         .master(\"k8s://https://kubernetes.default.svc:443\")\n",
        "         # Executors spark docker image: for simplicity reasons, this jupyter notebook is reused\n",
        "         .config(\"spark.kubernetes.container.image\", os.environ['IMAGE_NAME'])\n",
        "         # Name of the Kubernetes namespace\n",
        "         .config(\"spark.kubernetes.namespace\", os.environ['KUBERNETES_NAMESPACE'])\n",
        "         # Allocated memory to the JVM\n",
        "         # Stay careful, by default, the Kubernetes pods has a higher limit which depends on other parameters.\n",
        "         .config(\"spark.executor.memory\", \"4g\")\n",
        "         .config(\"spark.kubernetes.driver.pod.name\", os.environ['KUBERNETES_POD_NAME'])\n",
        "         # dynamic allocation configuration\n",
        "         .config(\"spark.dynamicAllocation.enabled\",\"true\")\n",
        "         .config(\"spark.dynamicAllocation.initialExecutors\",\"1\")\n",
        "         .config(\"spark.dynamicAllocation.minExecutors\",\"1\")\n",
        "         .config(\"spark.dynamicAllocation.maxExecutors\",\"60\")\n",
        "         # Ratio match the number of pods to create for a given number of parallel tasks\n",
        "         # (100 parallel, ratio of 1, one aims at 100 pods, with 0.5 it would be 50 pods)\n",
        "         .config(\"spark.dynamicAllocation.executorAllocationRatio\",\"1\")\n",
        "         .config(\"spark.dynamicAllocation.shuffleTracking.enabled\",\"true\")\n",
        "         .getOrCreate()\n",
        "        )"
      ],
      "id": "8d08ca05"
    },
    {
      "cell_type": "code",
      "execution_count": 2,
      "metadata": {},
      "outputs": [],
      "source": [
        "spark"
      ],
      "id": "05da4906"
    },
    {
      "cell_type": "markdown",
      "metadata": {},
      "source": [
        "## 2 First steps with Spark - Data importation\n",
        "\n",
        "Spark’s main object class is the DataFrame, which is a distributed\n",
        "table. It is analogous to R’s or Python (Pandas)’s data frames:\n",
        "\n",
        "-   one row represents an observation,\n",
        "-   one column represents a variable.\n",
        "\n",
        "But contrary to R or Python, Spark’s DataFrames can be distributed over\n",
        "hundred of nodes.\n",
        "\n",
        "Spark support multiple data formats, and multiple ways to load them.\n",
        "\n",
        "-   data format : csv, json, parquet (an open source column oriented\n",
        "    format)\n",
        "-   can read archive files\n",
        "-   schema detection or user defined schema. For static data, like a\n",
        "    json file, schema detection can be use with good results.\n",
        "\n",
        "Spark has multiple syntaxes to import data. Some are simple with no\n",
        "customisation, others are more complexes but you can specify options.\n",
        "\n",
        "The simplest syntaxes to load a json or a csv file are :\n",
        "\n",
        "``` python\n",
        "# JSON\n",
        "json_df = spark.read.json([location of the file])\n",
        "# csv\n",
        "csv_df = spark.read.csv([location of the file])\n",
        "```\n",
        "\n",
        "In the future, you may consult the [Data Source\n",
        "documentation](https://spark.apache.org/docs/latest/sql-data-sources.html)\n",
        "to have the complete description of Spark’s reading abilities.\n",
        "\n",
        "The data you will use in this lab are real data from the twitter\n",
        "[sampled stream\n",
        "API](https://developer.twitter.com/en/docs/twitter-api/tweets/sampled-stream/introduction)\n",
        "and [filtered stream\n",
        "API](https://developer.twitter.com/en/docs/twitter-api/tweets/filtered-stream/introduction).\n",
        "The tweets folder contains more than 50 files and more than 2 million\n",
        "tweets. The tweets was collected between the 14/04/2021 and the\n",
        "18/04/2021. The total collection time was less than 10 hours.\n",
        "\n",
        "------------------------------------------------------------------------\n",
        "\n",
        "### 2.1 ✍Hands-on 1 - Data importation\n",
        "\n",
        "-   [ ] Load the json file stored here :\n",
        "    `s3a://ludo2ne/diffusion/tweets.jsonl.gz`\n",
        "    -   [ ] Name you data frame `df_tweet`\n",
        "    -   [ ] Use function `cache()` on the data frame. Caching is a\n",
        "        performance optimization technique that allows you to persist an\n",
        "        intermediate or final result of a computation in memory,\n",
        "        reducing the need to recompute the data when it is accessed\n",
        "        multiple time\n",
        "\n",
        "    <small> ⚙️ This file is an a `JSONL` (JSON-line) format, which means\n",
        "    that each line of it is a JSON object. A JSON object is just a\n",
        "    Python dictionary or a JavaScript object and looks like this:\n",
        "    `{ key1: value1, key2: [\"array\", \"of\", \"many values]}`). This file\n",
        "    has been compressed into a `GZ` archive, hence the `.jsonl.gz`\n",
        "    ending. Also this file is not magically appearing in your S3\n",
        "    storage. It is hosted on one of your teacher’s bucket and has been\n",
        "    made public, so that you can access it.</small>\n",
        "\n",
        "It’s possible to load multiple file in a unique DataFrame. It’s useful\n",
        "when you have daily files and want to process them all. It’s the same\n",
        "syntax as the previous one, just specify a folder.\n",
        "\n",
        "-   If you meet some issue to load this file, you can load and use your\n",
        "    own file :\n",
        "    -   In Onyxia, `mes fichiers`\n",
        "    -   Load file `tweets.jsonl.gz`\n",
        "    -   In Jupyter, read it using `s3a://<user_name>/tweets.jsonl.gz`"
      ],
      "id": "9556e256-bc4b-4ea8-a349-6eda3238bcb3"
    },
    {
      "cell_type": "code",
      "execution_count": 3,
      "metadata": {
        "tags": [],
        "vscode": {
          "languageId": "json"
        }
      },
      "outputs": [],
      "source": [
        "# DataFrame creation\n",
        "df_tweet = spark.read.json(\"s3a://ludo2ne/diffusion/tweets.jsonl.gz\")\n",
        "\n",
        "# caching\n",
        "df_tweet.cache()"
      ],
      "id": "e9f3fec1"
    },
    {
      "cell_type": "markdown",
      "metadata": {},
      "source": [
        "## 3 Data frame basic manipulations\n",
        "\n",
        "If DataFrames are immutable, they can however be ***transformed*** in\n",
        "other DataFrames, in the sense that a modified copy is returned. Such\n",
        "**transformations** include: filtering, sampling, dropping columns,\n",
        "selecting columns, adding new columns…\n",
        "\n",
        "First, you can get information about the columns with:\n",
        "\n",
        "``` python\n",
        "df.columns       # get the column names\n",
        "df.schema        # get the column names and their respective type\n",
        "df.printSchema() # same, but human-readable\n",
        "```\n",
        "\n",
        "You can select columns with the `select()` method. It takes as argument\n",
        "a list of column name. For example :\n",
        "\n",
        "``` python\n",
        "df_with_less_columns = df\\\n",
        "  .select(\"variable3\",\"variable_four\",\"variable-6\")\n",
        "\n",
        "# Yes, you do need the ugly \\ at the end of the line,\n",
        "# if you want to chain methods between lines in Python\n",
        "```\n",
        "\n",
        "You can get nested columns easily with :\n",
        "\n",
        "``` python\n",
        "df.select(\"parentField.nestedField\")\n",
        "```\n",
        "\n",
        "To filter data you could use the `filter()` method. It take as input an\n",
        "expression that gets evaluated for each observation and should return a\n",
        "boolean. Sampling is performed with the `sample()` method. For example :\n",
        "\n",
        "``` python\n",
        "df_with_less_rows = df\\\n",
        "  .sample(fraction=0.001)\\\n",
        "  .filter(df.variable1==\"value\")\\\n",
        "  .show(10)\n",
        "```\n",
        "\n",
        "As said before your data are distributed over multiple nodes (executors)\n",
        "and data inside a node are split into partitions. Then each\n",
        "transformations will be run in parallel. They are called *narrow\n",
        "transformation* For example, to sample a DataFrame, Spark sample every\n",
        "partitions in parallel because sample all partition produce the sample\n",
        "DataFrame. For some transformations, like `groupBy()` it’s impossible,\n",
        "and it’s cannot be run in parallel.\n",
        "\n",
        "<img src=\"img/spark_exemple2_pipeline.png\" style=\"zoom:50%;\" />"
      ],
      "id": "ac96aa7b-ce47-41b2-92ac-aa61364d1bd0"
    },
    {
      "cell_type": "raw",
      "metadata": {
        "raw_mimetype": "text/html"
      },
      "source": [
        "<!-- take() collect() limit() first() show() -->"
      ],
      "id": "fa40386d-2e76-48fb-8412-8acc12a3bd9c"
    },
    {
      "cell_type": "raw",
      "metadata": {
        "raw_mimetype": "text/html"
      },
      "source": [
        "<!-- lien vers la doc https://spark.apache.org/docs/3.1.1/api/python/reference/pyspark.sql.html#dataframe-apis -->"
      ],
      "id": "8b5c4598-ce67-4cf8-9876-faa2ade2277a"
    },
    {
      "cell_type": "markdown",
      "metadata": {},
      "source": [
        "### 3.1 Lazy evaluation\n",
        "\n",
        "This is because Spark has what is known as **lazy evaluation**, in the\n",
        "sense that it will wait as much as it can before performing the actual\n",
        "computation. Said otherwise, when you run an instruction such as:\n",
        "\n",
        "``` python\n",
        "tweet_author_hashtags = df_tweet_big.select(\"auteur\",\"hashtags\")\n",
        "```\n",
        "\n",
        "… you are not executing anything! Rather, you are building an\n",
        "**execution plan**, to be realised later.\n",
        "\n",
        "Spark is quite extreme in its laziness, since only a handful of methods\n",
        "called **actions**, by opposition to **transformations**, will trigger\n",
        "an execution. The most notable are:\n",
        "\n",
        "1.  `collect()`, explicitly asking Spark to fetch the resulting rows\n",
        "    instead of to lazily wait for more instructions,\n",
        "2.  `take(n)`, asking for `n` first rows\n",
        "3.  `first()`, an alias for `take(1)`\n",
        "4.  `show()` and `show(n)`, human-friendly alternatives\n",
        "5.  `count()`, asking for the numbers of rows\n",
        "6.  all the “write” methods (write on file, write to database), see\n",
        "    [here](https://spark.apache.org/docs/3.1.1/api/python/reference/pyspark.sql.html#input-and-output)\n",
        "    for the list\n",
        "\n",
        "**This has advantages:** on huge data, you don’t want to accidently\n",
        "perform a computation that is not needed. Also, Spark can optimize each\n",
        "**stage** of the execution in regard to what comes next. For instance,\n",
        "filters will be executed as early as possible, since it diminishes the\n",
        "number of rows on which to perform later operations. On the contrary,\n",
        "joins are very computation-intense and will be executed as late as\n",
        "possible. The resulting **execution plan** consists in a **directed\n",
        "acyclic graph** (DAG) that contains the tree of all required actions for\n",
        "a specific computation, ordered in the most effective fashion.\n",
        "\n",
        "**This has also drawbacks.** Since the computation is optimized for the\n",
        "end result, the intermediate stages are discarded by default. So if you\n",
        "need a DataFrame multiple times, you have to cache it in memory because\n",
        "if you don’t Spark will recompute it every single time.\n",
        "\n",
        "------------------------------------------------------------------------\n",
        "\n",
        "### 3.2 ✍Hands-on 2 - Data frame basic manipulations\n",
        "\n",
        "-   [ ] How many rows have your two DataFrame ?"
      ],
      "id": "a7485cae-0b98-4b28-bc89-c7d2bf397ebe"
    },
    {
      "cell_type": "code",
      "execution_count": 4,
      "metadata": {
        "vscode": {
          "languageId": "json"
        }
      },
      "outputs": [],
      "source": [
        "df_tweet.count()"
      ],
      "id": "937e884e"
    },
    {
      "cell_type": "markdown",
      "metadata": {},
      "source": [
        "-   [ ] Display columns names and then the schema"
      ],
      "id": "7fcd478d-adb6-4c69-9c39-08d31d802810"
    },
    {
      "cell_type": "code",
      "execution_count": 5,
      "metadata": {},
      "outputs": [],
      "source": [
        "df_tweet.columns"
      ],
      "id": "d8b15a20"
    },
    {
      "cell_type": "code",
      "execution_count": 6,
      "metadata": {},
      "outputs": [],
      "source": [
        "df_tweet.printSchema()"
      ],
      "id": "8d5541ff"
    },
    {
      "cell_type": "markdown",
      "metadata": {},
      "source": [
        "-   [ ] Display 10 rows of df_tweet"
      ],
      "id": "bbad6294-ba28-4d90-993d-8355784bcd2f"
    },
    {
      "cell_type": "code",
      "execution_count": 7,
      "metadata": {},
      "outputs": [],
      "source": [
        "df_tweet.show(10)"
      ],
      "id": "587ae25e"
    },
    {
      "cell_type": "markdown",
      "metadata": {},
      "source": [
        "-   [ ] Sample `df_tweet` and keep only 10% of it.\n",
        "    -   Create a new DataFrame named `df_tweet_sampled`.\n",
        "    -   If computations take too long on the full DataFrame, use this\n",
        "        one instead or add a sample transformation in your expression."
      ],
      "id": "ae59b6ad-ef62-476b-8b27-f1d0a8b2cc9f"
    },
    {
      "cell_type": "code",
      "execution_count": 8,
      "metadata": {
        "vscode": {
          "languageId": "json"
        }
      },
      "outputs": [],
      "source": [
        "df_tweet_sampled = df_tweet\\\n",
        "  .sample(fraction=0.1)\n",
        "\n",
        "df_tweet_sampled.count()"
      ],
      "id": "7036705c"
    },
    {
      "cell_type": "markdown",
      "metadata": {},
      "source": [
        "-   [ ] Define a DataFrame `tweet_author_hashtags` with only the\n",
        "    `auteur` and `hashtags` columns\n",
        "    -   [ ] Then display 5 rows"
      ],
      "id": "98702810-a836-4312-a450-66d1baf4f8db"
    },
    {
      "cell_type": "code",
      "execution_count": 9,
      "metadata": {
        "vscode": {
          "languageId": "json"
        }
      },
      "outputs": [],
      "source": [
        "tweet_author_hashtags = df_tweet.select(\"auteur\", \"hashtags\")\n",
        "\n",
        "tweet_author_hashtags.show(5)"
      ],
      "id": "a24180a0"
    },
    {
      "cell_type": "markdown",
      "metadata": {},
      "source": [
        "-   [ ] Print 5 lines of a **df_tweet** with only the `auteur`,\n",
        "    `mentions`, and `urls` columns.\n",
        "    -   `mentions` and `urls` are both nested columns in `entities`"
      ],
      "id": "724b36c4-100f-40b7-92d3-8438a177c810"
    },
    {
      "cell_type": "code",
      "execution_count": 10,
      "metadata": {
        "vscode": {
          "languageId": "json"
        }
      },
      "outputs": [],
      "source": [
        "df_tweet\\\n",
        "  .select(\"auteur\",\n",
        "          \"entities.mentions\",\n",
        "          \"entities.urls\")\\\n",
        "  .show(5)"
      ],
      "id": "d2c2f23d"
    },
    {
      "cell_type": "markdown",
      "metadata": {},
      "source": [
        "-   [ ] Filter **df_tweet** and keep only tweets with more than 1 like.\n",
        "    -   [ ] Display only `auteur`, `contenu` and `like_count`\n",
        "    -   [ ] Print 10 lines"
      ],
      "id": "f4434189-1c34-41b4-89ae-f8cdc92090de"
    },
    {
      "cell_type": "code",
      "execution_count": 11,
      "metadata": {},
      "outputs": [],
      "source": [
        "df_tweet\\\n",
        "  .filter(df_tweet.like_count >= 1)\\\n",
        "  .show(10)"
      ],
      "id": "9335eb84"
    },
    {
      "cell_type": "markdown",
      "metadata": {},
      "source": [
        "## 4 Basic DataFrame column manipulation\n",
        "\n",
        "You can add/update/rename column of a DataFrame using **spark** :\n",
        "\n",
        "-   Drop : `df.drop(columnName : str )`\n",
        "-   Rename : `df.withColumnRenamed(oldName : str, newName : str)`\n",
        "-   Add/update : `df.withColumn(columnName : str, columnExpression)`\n",
        "\n",
        "For example"
      ],
      "id": "e5223a6a-c644-498e-9552-250fee836c39"
    },
    {
      "cell_type": "code",
      "execution_count": 12,
      "metadata": {},
      "outputs": [],
      "source": [
        "df_tweet\\\n",
        "  .withColumn(                                        # computes new variable\n",
        "    \"like_rt_ratio\",                                  # like_rt_ratio \"OVERCONFIDENCE\"\n",
        "    df_tweet.like_count /df_tweet.retweet_count)"
      ],
      "id": "1148ac15"
    },
    {
      "cell_type": "markdown",
      "metadata": {},
      "source": [
        "See <a\n",
        "href=\"https://spark.apache.org/docs/3.1.1/api/python/reference/pyspark.sql.html#functions\"\n",
        "class=\"external\" target=\"_blank\">here</a> for the list of all functions\n",
        "available in an expression.\n",
        "\n",
        "### 4.1 ✍Hands-on 3 - Basic DataFrame column manipulation\n",
        "\n",
        "-   [ ] Define a DataFrame with a column names `interaction_count` named\n",
        "    `df_tweet_interaction_count`\n",
        "    -   This column is the sum of `like_count`, `reply_count` and\n",
        "        `retweet_count`."
      ],
      "id": "2b547a04-c21e-4013-97bf-26449f6ff392"
    },
    {
      "cell_type": "code",
      "execution_count": 13,
      "metadata": {
        "vscode": {
          "languageId": "json"
        }
      },
      "outputs": [],
      "source": [
        "df_tweet_interaction_count = df_tweet\\\n",
        "  .drop(\"other\")\\\n",
        "  .filter(df_tweet.like_count >= 1)\\\n",
        "  .filter(df_tweet.retweet_count >= 1)\\\n",
        "  .withColumn(\n",
        "    \"interaction_count\",\n",
        "    df_tweet.like_count + df_tweet.reply_count + df_tweet.retweet_count)\n",
        "\n",
        "df_tweet_interaction_count\\\n",
        "  .show(10)"
      ],
      "id": "07a4b6c8"
    },
    {
      "cell_type": "markdown",
      "metadata": {},
      "source": [
        "-   [ ] Update the DataFrame you imported at the beginning of this lab\n",
        "    and drop the `other` column"
      ],
      "id": "8d44f7dc-20c7-44b4-a50f-6eddb137f98f"
    },
    {
      "cell_type": "code",
      "execution_count": 14,
      "metadata": {
        "vscode": {
          "languageId": "json"
        }
      },
      "outputs": [],
      "source": [
        "df_tweet\\\n",
        "  .drop(\"other\")\\\n",
        "  .show(10)"
      ],
      "id": "33bd0aff"
    },
    {
      "cell_type": "markdown",
      "metadata": {},
      "source": [
        "## 5 Advance DataFrame column manipulation\n",
        "\n",
        "### 5.1 Array manipulation\n",
        "\n",
        "Some columns often contain arrays (lists) of values instead of just one\n",
        "value. This may seem surprising but this actually quite natural. For\n",
        "instance, you may create an array of words from a text, or generate a\n",
        "list of random numbers for each observation, etc.\n",
        "\n",
        "You may **create array of values** with:\n",
        "\n",
        "-   `split(text : string, delimiter : string)`, turning a text into an\n",
        "    array of strings\n",
        "\n",
        "You may **use array of values** with:\n",
        "\n",
        "-   `size(array : Array)`, getting the number of elements\n",
        "\n",
        "-   `array_contains(inputArray : Array, value : any)`, checking if some\n",
        "    value appears\n",
        "\n",
        "-   `explode(array : Array)`, unnesting an array and duplicating other\n",
        "    values. For instance if you use `explode()` over the hashtags value\n",
        "    of this DataFrame:\n",
        "\n",
        "    | Auteur | Contenu                             | Hashtags           |\n",
        "    |--------|-------------------------------------|--------------------|\n",
        "    | Bob    | I love #Spark and #bigdata          | \\[Spark, bigdata\\] |\n",
        "    | Alice  | Just finished #MHrise, best MH ever | \\[MHrise\\]         |\n",
        "\n",
        "    You will get :\n",
        "\n",
        "    | Auteur | Contenu                             | Hashtags           | Hashtag |\n",
        "    |--------|-------------------------------------|--------------------|---------|\n",
        "    | Bob    | I love #Spark and #bigdata          | \\[Spark, bigdata\\] | Spark   |\n",
        "    | Bob    | I love #Spark and #bigdata          | \\[Spark, bigdata\\] | bigdata |\n",
        "    | Alice  | Just finished #MHrise, best MH ever | \\[MHrise\\]         | MHrise  |\n",
        "\n",
        "All this functions must be imported first :\n",
        "\n",
        "``` python\n",
        "from pyspark.sql.functions import split, explode, size, array_contains\n",
        "```\n",
        "\n",
        "Do not forget, to create a new column, you should use `withColumn()`.\n",
        "For example :\n",
        "\n",
        "``` python\n",
        "df.withColumn(\"new column\", explode(\"array\"))\n",
        "```\n",
        "\n",
        "#### ✍Hands-on 4 - Array manipulation\n",
        "\n",
        "-   [ ] Keep all the tweets with hashtags and for each remaining line,\n",
        "    split the hashtag text into an array of hashtags"
      ],
      "id": "9f3b8db6-990b-4e73-b1c6-5db174abb5fa"
    },
    {
      "cell_type": "code",
      "execution_count": 15,
      "metadata": {
        "vscode": {
          "languageId": "json"
        }
      },
      "outputs": [],
      "source": [
        "from pyspark.sql.functions import split, explode, size, array_contains\n",
        "\n",
        "df_tweet\\\n",
        "  .filter(size(\"hashtags\") > 0)\\\n",
        "  .withColumn(\n",
        "    \"hashtag_exploded\",\n",
        "    explode(\"hashtags\"))\\\n",
        "  .show(10)"
      ],
      "id": "a6de9c46"
    },
    {
      "cell_type": "markdown",
      "metadata": {},
      "source": [
        "-   [ ] Create a new column with the number of words of the `contenu`\n",
        "    column. (Use `split()` + `size()`)"
      ],
      "id": "2de56afa-6782-4340-bcba-8a7179667b80"
    },
    {
      "cell_type": "code",
      "execution_count": 16,
      "metadata": {
        "vscode": {
          "languageId": "json"
        }
      },
      "outputs": [],
      "source": [
        "df_tweet\\\n",
        "  .withColumn(\"word_count\",\n",
        "              size(split(\"contenu\", \" \")))\\\n",
        "  .show(5)"
      ],
      "id": "dd50599d"
    },
    {
      "cell_type": "markdown",
      "metadata": {},
      "source": [
        "-   [ ] Count how many tweet contain the `Ukraine` hashtag (use the\n",
        "    `count()` action)"
      ],
      "id": "fc34cce3-4788-451c-bfce-746ed3bc0581"
    },
    {
      "cell_type": "code",
      "execution_count": 17,
      "metadata": {
        "vscode": {
          "languageId": "json"
        }
      },
      "outputs": [],
      "source": [
        "df_tweet\\\n",
        "  .filter(array_contains(\"hashtags\", \"Ukraine\"))\\\n",
        "  .count()"
      ],
      "id": "3c87e883"
    },
    {
      "cell_type": "markdown",
      "metadata": {},
      "source": [
        "### 5.2 User defined function\n",
        "\n",
        "For more very specific column manipulation you will need Spark’s `udf()`\n",
        "function (*User Defined Function*). It can be useful if Spark does not\n",
        "provide a feature you want. But Spark is a popular and active project,\n",
        "so before coding an udf, go check the documentation. For instance for\n",
        "natural language processing, Spark already has some\n",
        "[functions](https://spark.apache.org/docs/3.1.1/api/python/reference/api/pyspark.ml.feature.Tokenizer.html#pyspark.ml.feature.Tokenizer).\n",
        "Last things, python udf can lead to performance issues (see\n",
        "https://stackoverflow.com/a/38297050) and learning a little bit of scala\n",
        "or java can be a good idea.\n",
        "\n",
        "For example :\n",
        "\n",
        "``` python\n",
        "# !!!! DOES NOT WORK !!!!\n",
        "def to_lower_case(string):\n",
        "    return string.lower()\n",
        "\n",
        "df.withColumn(\"tweet_lower_case\", to_lower_case(df.contenu))\n",
        "```\n",
        "\n",
        "will just crash. Keep in mind that Spark is a distributed system, and\n",
        "that Python is only installed on the central node, as a convenience to\n",
        "let you execute instructions on the executor nodes. But by default, pure\n",
        "Python functions can only be executed where Python is installed! We need\n",
        "`udf()` to enable Spark to send Python instructions to the worker nodes.\n",
        "\n",
        "Let us see how it is done :\n",
        "\n",
        "``` python\n",
        "# imports\n",
        "from pyspark.sql.functions import udf\n",
        "from pyspark.sql.functions import explode\n",
        "from pyspark.sql.types import StringType\n",
        "\n",
        "# pure python functions\n",
        "def to_lower_case(string):\n",
        "    return string.lower()\n",
        "\n",
        "# user defined function(we use a lambda function to create the udf)\n",
        "to_lower_case_udf = udf(\n",
        "    lambda x: to_lower_case(x), StringType()\n",
        ")\n",
        "\n",
        "# df manipulation\n",
        "df_tweet_small\\\n",
        "  .select(\"auteur\",\"hashtags\")\\\n",
        "  .filter(\"size(hashtags)!=0\")\\\n",
        "  .withColumn(\"hashtag\", explode(\"hashtags\"))\\\n",
        "  .withColumn(\"hashtag\", to_lower_case_udf(\"hashtag\")).show(10)\n",
        "```\n",
        "\n",
        "------------------------------------------------------------------------\n",
        "\n",
        "#### ✍Hands-on 5 - User defined function\n",
        "\n",
        "-   [ ] Create an user defined function that counts how many words a\n",
        "    tweet contains.\n",
        "    -   your function will return an `IntegerType` and not a\n",
        "        `StringType`"
      ],
      "id": "e2cf7ab7-8d6c-483c-9216-d0fb16d0b5b8"
    },
    {
      "cell_type": "code",
      "execution_count": 18,
      "metadata": {
        "vscode": {
          "languageId": "json"
        }
      },
      "outputs": [],
      "source": [
        "# imports\n",
        "from pyspark.sql.functions import udf\n",
        "from pyspark.sql.types import IntegerType\n",
        "\n",
        "# pure python functions\n",
        "def word_count(string):\n",
        "    return len(string.split(\" \"))\n",
        "\n",
        "# user definid function\n",
        "word_count_udf = udf(\n",
        "    lambda x: word_count(x), IntegerType()\n",
        ")\n",
        "\n",
        "# df manipulation\n",
        "df_tweet\\\n",
        "  .withColumn(\"word_count\",\n",
        "              word_count_udf(\"contenu\"))\\\n",
        "  .show(10)"
      ],
      "id": "d37fa0af"
    },
    {
      "cell_type": "markdown",
      "metadata": {},
      "source": [
        "## 6 Aggregation functions\n",
        "\n",
        "Spark offer a variety of aggregation functions :\n",
        "\n",
        "-   `count(column : string)` will count every not null value of the\n",
        "    specify column. You cant use `count(1)` of `count(\"*\")` to count\n",
        "    every line (even row with only null values)\n",
        "\n",
        "-   `countDisctinct(column : string)` and\n",
        "    `approx_count_distinct(column : string, percent_error: float)`. If\n",
        "    the exact number is irrelevant, `approx_count_distinct()`should be\n",
        "    preferred.\n",
        "\n",
        "    Counting distinct elements cannot be done in parallel, and need a\n",
        "    lot data transfer. But if you only need an approximation, there is a\n",
        "    algorithm, named hyper-log-log (more info\n",
        "    [here](https://databricks.com/fr/blog/2016/05/19/approximate-algorithms-in-apache-spark-hyperloglog-and-quantiles.html))\n",
        "    that can be parallelized.\n",
        "\n",
        "    ``` python\n",
        "    from pyspark.sql.functions import count, countDistinct, approx_count_distinct\n",
        "\n",
        "    df.select(count(\"col1\")).show()\n",
        "    df.select(countDistinct(\"col1\")).show()\n",
        "    df.select(approx_count_distinct(\"col1\"), 0.1).show()\n",
        "    ```\n",
        "\n",
        "-   You have access to all other common functions `min()`, `max()`,\n",
        "    `first()`, `last()`, `sum()`, `sumDistinct()`, `avg()` etc (you\n",
        "    should import them first\n",
        "    `from pyspark.sql.functions import min, max, avg, first, last, sum, sumDistinct`)\n",
        "\n",
        "------------------------------------------------------------------------\n",
        "\n",
        "### 6.1 ✍Hands-on 6 - Aggregation functions\n",
        "\n",
        "-   [ ] What are the min, max, average of `interaction_count` (use\n",
        "    `df_tweet_interaction_count` created earlier)\n",
        "    -   don’t forget to import the required functions"
      ],
      "id": "ff29817d-5156-4a9b-865b-6209b98ce0a8"
    },
    {
      "cell_type": "code",
      "execution_count": 19,
      "metadata": {
        "vscode": {
          "languageId": "json"
        }
      },
      "outputs": [],
      "source": [
        "from pyspark.sql.functions import min, max, avg, first, last, sum, sumDistinct\n",
        "\n",
        "df_tweet_interaction_count\\\n",
        "  .select(min(\"interaction_count\"),\n",
        "          max(\"interaction_count\"),\n",
        "          avg(\"interaction_count\"))\\\n",
        "  .first()"
      ],
      "id": "293a12f8"
    },
    {
      "cell_type": "markdown",
      "metadata": {},
      "source": [
        "-   [ ] How many tweets have hashtags ?\n",
        "    -   [ ] Distinct hashtags ?\n",
        "    -   [ ] Try the approximative count with 0.1 and 0.01 as maximum\n",
        "        estimation error allowed."
      ],
      "id": "a1c40508-7558-4767-9d28-0a652eceb525"
    },
    {
      "cell_type": "code",
      "execution_count": 20,
      "metadata": {
        "vscode": {
          "languageId": "json"
        }
      },
      "outputs": [],
      "source": [
        "from pyspark.sql.functions import count, countDistinct, approx_count_distinct\n",
        "\n",
        "df_tweet\\\n",
        "  .select(count(\"hashtags\"),\n",
        "          countDistinct(\"hashtags\"),\n",
        "          approx_count_distinct(\"hashtags\", 0.1),\n",
        "          approx_count_distinct(\"hashtags\",0.01))\\\n",
        "  .show()"
      ],
      "id": "a60b8ebe"
    },
    {
      "cell_type": "markdown",
      "metadata": {},
      "source": [
        "## 7 Grouping functions\n",
        "\n",
        "Like SQL you can group row by a criteria with Spark. Just use the\n",
        "`groupBy(column : string)` method. Then you can compute some aggregation\n",
        "over those groups.\n",
        "\n",
        "``` python\n",
        "df\\\n",
        "  .groupBy(\"col1\")\\\n",
        "  .agg(count(\"col2\").alias(\"quantity\"))\\           # alias is use to specify the name of the new column\n",
        "  .show()\n",
        "```\n",
        "\n",
        "The `agg()` method can take multiples argument to compute multiple\n",
        "aggregation at once.\n",
        "\n",
        "``` python\n",
        "df\\\n",
        "  .groupBy(\"col1\")\\\n",
        "  .agg(count(\"col2\").alias(\"quantity\"),\n",
        "       min(\"col2\").alias(\"min\"),\n",
        "       avg(\"col3\").alias(\"avg3\"))\\\n",
        "  .show()\n",
        "```\n",
        "\n",
        "Aggregation and grouping transformations work differently than the\n",
        "previous method like `filter()`, `select()`, `withColumn()` etc. Those\n",
        "transformations cannot be run over each partitions in parallel, and need\n",
        "to transfer data between partitions and executors. They are called “wide\n",
        "transformations”\n",
        "\n",
        "<img src=\"img/spark_exemple2_pipeline.png\" style=\"zoom:50%;\" />\n",
        "\n",
        "### 7.1 ✍Hands-on 7 - Grouping functions\n",
        "\n",
        "-   [ ] Compute a daframe with the min, max and average retweet of each\n",
        "    `auteur`.\n",
        "    -   [ ] Then order it by the max number of retweet in descending\n",
        "        order by .\n",
        "    -   To do that you can use the following syntax\n",
        "\n",
        "    ``` python\n",
        "    from pyspark.sql.functions import desc\n",
        "    df.orderBy(desc(\"col\"))\n",
        "    ```"
      ],
      "id": "f9804b68-22a8-4c25-9f02-36379de6894a"
    },
    {
      "cell_type": "code",
      "execution_count": 21,
      "metadata": {},
      "outputs": [],
      "source": [
        "from pyspark.sql.functions import desc\n",
        "\n",
        "df_tweet\\\n",
        "  .groupBy(\"auteur\")\\\n",
        "  .agg(min(\"retweet_count\").alias(\"min_RT\"),\n",
        "       max(\"retweet_count\").alias(\"max_RT\"),\n",
        "       avg(\"retweet_count\").alias(\"avg_RT\"))\\\n",
        "  .orderBy(desc(\"max_RT\"))\\\n",
        "  .show(5)"
      ],
      "id": "9f768d31"
    },
    {
      "cell_type": "markdown",
      "metadata": {},
      "source": [
        "## 8 Spark SQL\n",
        "\n",
        "Spark understand SQL statement. It’s not a hack nor a workaround to use\n",
        "SQL in Spark, it’s one a the more powerful feature in Spark. To use SQL\n",
        "you will need :\n",
        "\n",
        "1.  Register a view pointing to your DataFrame\n",
        "\n",
        "    ``` python\n",
        "    my_df.createOrReplaceTempView(viewName : str)\n",
        "    ```\n",
        "\n",
        "2.  Use the sql function\n",
        "\n",
        "    ``` python\n",
        "    spark.sql(\"\"\"\n",
        "    Your SQL statement\n",
        "    \"\"\")\n",
        "    ```\n",
        "\n",
        "    You could manipulate every registered DataFrame by their view name\n",
        "    with plain SQL.\n",
        "\n",
        "In fact you can do most of this tutorial without any knowledge in\n",
        "PySpark nor Spark. Many things can only be done in Spark if you know SQL\n",
        "and how to use it in Spark.\n",
        "\n",
        "### 8.1 ✍Hands-on 8 - Spark SQL\n",
        "\n",
        "-   [ ] How many tweets have hashtags ?\n",
        "    -   [ ] Distinct hashtags ?"
      ],
      "id": "8522f34d-07cb-4b31-97b3-faa3aacffcab"
    },
    {
      "cell_type": "code",
      "execution_count": 22,
      "metadata": {},
      "outputs": [],
      "source": [
        "df_tweet\\\n",
        "  .select(\"contenu\", \"hashtags\")\\\n",
        "  .createOrReplaceTempView(\"view_hashtag_content\")\n",
        "\n",
        "spark.sql(\"\"\"\n",
        "SELECT COUNT(*),\n",
        "       COUNT(DISTINCT(contenu))\n",
        "  FROM view_hashtag_content\n",
        " WHERE size(hashtags) > 0\n",
        "\"\"\")\\\n",
        "  .show(5)"
      ],
      "id": "78e55559"
    },
    {
      "cell_type": "markdown",
      "metadata": {},
      "source": [
        "-   [ ] Compute a dataframe with the min, max and average retweet of\n",
        "    each `auteur` using Spark SQL"
      ],
      "id": "106a11ea-dc97-4ba8-a87d-d824c8494cfb"
    },
    {
      "cell_type": "code",
      "execution_count": 23,
      "metadata": {},
      "outputs": [],
      "source": [
        "df_tweet.createOrReplaceTempView(\"view_tweet\")\n",
        "\n",
        "spark.sql(\"\"\"\n",
        "SELECT min(retweet_count),\n",
        "       max(retweet_count),\n",
        "       avg(retweet_count)\n",
        "  FROM view_tweet\n",
        " GROUP BY auteur\n",
        " ORDER BY MAX(retweet_count) DESC\n",
        "\"\"\")\\\n",
        "  .show(5)"
      ],
      "id": "5201c398"
    },
    {
      "cell_type": "markdown",
      "metadata": {},
      "source": [
        "## 9 Delete the Jupyter-pyspark service\n",
        "\n",
        "-   [ ] Export your notebook\n",
        "    -   Right clic and Download (.ipynb)\n",
        "    -   File \\> Save and Export Notebook \\> HTML\n",
        "-   https://datalab.sspcloud.fr/my-services"
      ],
      "id": "c04bf485-510c-4904-aa7f-7f33c7b39fee"
    }
  ],
  "nbformat": 4,
  "nbformat_minor": 5,
  "metadata": {
    "kernelspec": {
      "name": "python3",
      "display_name": "Python 3 (ipykernel)",
      "language": "python"
    },
    "language_info": {
      "name": "python",
      "codemirror_mode": {
        "name": "ipython",
        "version": "3"
      },
      "file_extension": ".py",
      "mimetype": "text/x-python",
      "nbconvert_exporter": "python",
      "pygments_lexer": "ipython3",
      "version": "3.10.13"
    }
  }
}