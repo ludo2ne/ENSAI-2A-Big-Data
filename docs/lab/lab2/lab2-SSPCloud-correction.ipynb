{
 "cells": [
  {
   "cell_type": "raw",
   "id": "a1e82351-2880-44d3-822e-78c36fa7877f",
   "metadata": {},
   "source": [
    "---\n",
    "title: Spark ML\n",
    "description: Lab 2\n",
    "format:\n",
    "  html:\n",
    "    toc: true\n",
    "    toc-location: left\n",
    "    toc-expand: 3\n",
    "execute:\n",
    "  eval: false\n",
    "---"
   ]
  },
  {
   "cell_type": "markdown",
   "id": "d14c738c-deea-48ed-813d-2df34d820d72",
   "metadata": {},
   "source": [
    "## 1. Before you start\n",
    "\n",
    "- [ ] connect to [SSPCloud](https://datalab.sspcloud.fr/)\n",
    "  - if necessary, create an account with your ENSAI e-mail address\n",
    "- Go to `Mes services`\n",
    "  - [ ] Create a new service : `Jupyter-pyspark`\n",
    "  - Wait for a few seconds\n",
    "  - [ ] Clic on `Copier le mot de passe` and then `Ouvrir le service`\n",
    "  - [ ] On the next page, paste it in the appropriate place and `Log in`\n",
    "  - You are now in your Jupyter service\n",
    "- [ ] Import file named `lab2-SSPCloud.ipynb`\n",
    "  - [ ] open it and follow the instructions\n",
    "\n",
    "#### At this end of this lab\n",
    "\n",
    "- [ ] Export your notebook\n",
    "  - File > Export Notebook As ... > Export Notebook To HTML\n",
    "- [ ] Delete your Jupyter service !"
   ]
  },
  {
   "attachments": {},
   "cell_type": "markdown",
   "id": "741a5875-99f3-4393-a8c1-389016d52fca",
   "metadata": {},
   "source": [
    "In this tutorial, we are going to perform exploratory and explanatory analyses of a massive dataset consisting in hundreds of thousands of AirBnB listings, as made available by the Inside **[AirBnB project](http://insideairbnb.com/get-the-data.html)**.  \n",
    "Rémi Pépin has loaded a lot these listings on AWS at this address: `s3a://remipepin/diffusion/ensai/airbnb`\n",
    "\n",
    "## 2. How to distribute elementary statistical tasks?\n",
    "\n",
    "**The map and reduce principle**\n",
    "\n",
    "When your data is distributed, i.e is spread out across multiple hard disks / memories on different logical or physical machines, it is clearly not possible to load everything in memory to perform some computation. (No computer from the cluster would have enough storage space / memory space to load the full data set, and the exchange of information _between_ the nodes of the cluster would take considerable amounts of time.) What can you do then?\n",
    "\n",
    "A surprisingly satisfying situation is when your algorithm can be expressed in a **map-and-reduce model**[^mapreduce]. A **map** step, in computer science, is the equivalent a function in mathematics: from a given entry, return an output. Examples include counting the number of occurrences of a word in a text, squaring some number, subtracting some number, etc.  A **reduce** step takes two inputs and produces one input, and can be called recursively onto its own outputs, progressively yielding the final result through a pyramid of **accumulators** (see diagram here under). Popular reduce functions include (pairwise) concatenation of character strings, (pairwise) product, (pairwise) minimum and (pairwise) maximum. But **pairwise addition** is probably the most used reduce function, with the aim goal of performing a complete addition:\n",
    "\n",
    "[^mapreduce]: Hadoop's MapReduce is the name of what was to become today Apache Spark. The persons behind this framework were among the first to advocate for the map-and-reduce mode in order to achieve efficient parallelisation. Unfortunately, the similarity of the names causes a lot of confusion between the map-and-reduce theoretical model and the concrete Hadoop implementation. I will use \"map-and-reduce\" to help distinguish the algorithmic concept from the MapReduce program, but this is _not_ standard in the literature.\n",
    "\n",
    "![](img/reduce.png)\n",
    "\n",
    "**Why is the map-and-reduce scheme so interesting?**  Well, say you have $n$ entries and $k$ worker nodes at your disposal. The map operation can always be performed locally on each node, since the transformation does not depend on the rest of the data set. This is an **embarrassingly parallel problem** and we roughly divide the execution time by $k$. Then, most of the reduce steps can also happen on the worker nodes, until the local data has been completely summarized. This also an $k$_fold acceleration! Then, there remains only $k$ reduce steps, and since $k \\ll n$, this is usually quite negligible, even though the (potentially high) networking costs happen at this step. There is still some cost of task coordination and data exchange, but this usually small compared to the costs of parallelisation.\n",
    "\n",
    "![](img/map-end-reduce.png)\n",
    "\n",
    "**The reduce step**\n",
    "\n",
    "**A reduce function is an associative function** $f: E \\times E \\mapsto E$, where associativity means $\\forall (a,b,c) \\in E^3, f(a,f(b,c))=f(f(a,b),c)$. This is required because the distribution of data blocks across the nodes is random, and that we want to minimize data transmission between the nodes.\n",
    "\n",
    "Moreover, **$f$ may or may not be commutative**, in the sense that $f(a,b)=f(b,a)$. If it is the case, such as with addition and multiplication, then the computing may happen in no particular order. This means that the central node need not wait for some partial results to be returned by a belated node. On the contrary, if $f$ is not commutative, (a) the worker nodes must apply the function in a defined order, (b) the central node needs to reduce the intermediate outputs in a defined order, (c) it may have to delay the final reduce steps because of a lingering node.\n",
    "\n",
    "The reduce function must not be defined on $E=\\mathbb{R}$. For instance, in the context where data is a collection of text documents, a word-count function may return accumulator objects looking like: `((word1,count1), (word2,count2))`. Also, the accumulators — that is, the outputs of the each intermediate reduce step — are not necessarily exactly the cumulative version of the final statistic our algorithm outputs! Rather, **accumulators are information-dense, fast-to-compute summary statistics** from which the required final statistics can be obtained.\n",
    "\n",
    "Imagine you want to count the frequency of the vocal E in English, given a collection of texts. It is faster to count the number of Es as well as the total number of characters than to accumulate directly the frequencies, as shown in this diagram:\n",
    "\n",
    "![](img/reduce-frequency.png)\n",
    "\n",
    "**Online algorithms**\n",
    "\n",
    "An **online algorithm** is an algorithm with an inner state that can be actualized at low cost for any new arrival of data. A good metaphor is track-keeping of the number of people on a bus: every time a person enters or leaves, you apply ±1 to the count, without the need to systematically recount everyone. Said otherwise, an online algorithm is any algorithm whose last result can be actualized from new data, at a smaller cost than an alternative algorithm that uses both old and new data from scratch.\n",
    "\n",
    "It turns out that **respecting the map-and-reduce model gives us online algorithms for free**, where the **inner state** of the algorithm is the output from the last reduce call. Indeed, writing $s_\\text{old}$ and $s_\\text{new}$ the old and new states (the old and new summary statistics), and $x_new$ the latest data point, we have:\n",
    "\n",
    "$$s_\\text{new}=\\text{reduce}(s_\\text{old}, \\text{map}(x_\\text{new}))$$\n",
    "\n",
    "Thus, writing an algorithm following the map-and-reduce model gives you both a parallelized batch algorithm and a stream algorithm at once.\n",
    "\n",
    "**Number of passes**\n",
    "\n",
    "So far we have discussed algorithms that require only one map and one reduce functions. But for some statistics, it is not sufficient. For instance, if we want to count the number of texts where the letter E is more common than average, we first have to compute the average frequency in a first pass, then to count the texts where the frequency exceed this number with a second one. We can NOT do this in only one run, since the global average frequency is not known !\n",
    "\n",
    "Each run is called a **pass** and some algorithms require several passes.\n",
    "\n",
    "**Limits**\n",
    "\n",
    "- Not all statistical algorithms can be expressed according to the map-and-reduce algorithm, and when they can, it may require a significant re-writing compared to the standard algorithms.\n",
    "- There may be a trade-off between the number of passes, the speed of each map / reduce steps and the volume of data transferred between each reduce step."
   ]
  },
  {
   "attachments": {},
   "cell_type": "markdown",
   "id": "943bfac2-a848-410b-88aa-81c9b3264dcf",
   "metadata": {},
   "source": [
    "### ✍ Hands-on 1\n",
    "\n",
    "- You are given `errors`, a distributed vector of prediction errors `errors = [1, 2, 5, 10, 3, 4, 6, 8, 9]`\n",
    "- [ ] Write a map-and-reduce algorithm for computing the **total sum of squares**.\n",
    "  - You may want to create a Python version of this algorithm, using the `map(function, vector)` and `reduce(function, vector)` functions or you may use lambda-functions\n",
    "  - You have to import `reduce` from the `functools` module"
   ]
  },
  {
   "cell_type": "code",
   "execution_count": 3,
   "id": "8b8e1840-bc16-4f05-985f-2ce885a8a8cb",
   "metadata": {
    "vscode": {
     "languageId": "json"
    }
   },
   "outputs": [
    {
     "data": {
      "text/plain": [
       "336"
      ]
     },
     "execution_count": 3,
     "metadata": {},
     "output_type": "execute_result"
    }
   ],
   "source": [
    "from functools import reduce\n",
    "\n",
    "errors = [1, 2, 5, 10, 3, 4, 6, 8, 9]\n",
    "\n",
    "reduce(lambda s1, s2: s1+s2, map(lambda e: e**2, errors))"
   ]
  },
  {
   "attachments": {},
   "cell_type": "markdown",
   "id": "a9caddbd-4343-455a-a1fa-c5aa27b304a6",
   "metadata": {},
   "source": [
    "- [ ] Write **two** different map-and-reduce algorithm for computing the **_mean_ sum of squares**. _(One may include a final $O(1)$ step.)_"
   ]
  },
  {
   "cell_type": "code",
   "execution_count": 5,
   "id": "b9358059-806a-43ec-ab57-7039a636c206",
   "metadata": {},
   "outputs": [
    {
     "data": {
      "text/plain": [
       "{'m': 37.333333333333336, 'w': 9}"
      ]
     },
     "execution_count": 5,
     "metadata": {},
     "output_type": "execute_result"
    }
   ],
   "source": [
    "errors = [1, 2, 5, 10, 3, 4, 6, 8, 9]\n",
    "\n",
    "def weighted_mean(obj1, obj2):\n",
    "  w = obj1[\"w\"] + obj2[\"w\"]\n",
    "  return ({\n",
    "      \"m\" : (obj1[\"m\"] * obj1[\"w\"] + obj2[\"m\"] * obj2[\"w\"]) / w,\n",
    "      \"w\" : w\n",
    "  })\n",
    "\n",
    "squared_errors = map(lambda e: {\"m\" : e**2, \"w\" : 1}, errors)\n",
    "reduce(weighted_mean, squared_errors )"
   ]
  },
  {
   "cell_type": "code",
   "execution_count": 7,
   "id": "2725b67a-3d11-4fd2-bd10-08bcae639258",
   "metadata": {
    "vscode": {
     "languageId": "json"
    }
   },
   "outputs": [
    {
     "data": {
      "text/plain": [
       "37.333333333333336"
      ]
     },
     "execution_count": 7,
     "metadata": {},
     "output_type": "execute_result"
    }
   ],
   "source": [
    "def sum_and_n(obj1, obj2) :\n",
    "  return {\n",
    "    \"sum\" : obj1[\"sum\"] + obj2[\"sum\"],\n",
    "    \"n\"   : obj1[\"n\"] + obj2[\"n\"]\n",
    "  }\n",
    "\n",
    "squared_errors = map(lambda e: {\"sum\" : e**2, \"n\" : 1}, errors)\n",
    "total_sum_and_n = reduce(sum_and_n, squared_errors)\n",
    "total_sum_and_n[\"sum\"] / total_sum_and_n[\"n\"]"
   ]
  },
  {
   "attachments": {},
   "cell_type": "markdown",
   "id": "40353ea1-53ec-478c-80e4-aba5b04cb29e",
   "metadata": {},
   "source": [
    "- [ ] Is the median easy to write as a map-and-reduce algorithm? Why?"
   ]
  },
  {
   "cell_type": "markdown",
   "id": "73e451d8-940d-4055-99eb-b897a5a5bc53",
   "metadata": {
    "vscode": {
     "languageId": "json"
    }
   },
   "source": [
    "Exact median computation is not readily decomposable into a map-and-reduce algorithm, because the full set of numbers is needed in order. Parallel algorithm exist for the median, using the pivot technique. This is beyond the scope of this tutorial."
   ]
  },
  {
   "attachments": {},
   "cell_type": "markdown",
   "id": "e140f962-6f05-4167-a17b-ad1af84b46e2",
   "metadata": {},
   "source": [
    "- [ ] Given a (distributed) series of numbers, the variance can be straightforwardly expressed as a two-pass algorithm: (a) in a first pass, compute the mean, then (b) in a second pass, compute the mean of the errors to the mean. Can it be expressed as a one-pass only algorithm? Is it more expensive to compute variance *and* mean instead of the variance alone?"
   ]
  },
  {
   "cell_type": "markdown",
   "id": "1dcc71ea-e1e7-48b3-9c5e-09778f0e2015",
   "metadata": {},
   "source": [
    "Yes, using the fact that $V(X)=E((X-E(X))^2)=E(X^2)-E(X)^2$. $E(X)$ and $E(X^2)$ can be computed during the same reduce map:\n",
    "\n",
    "```\n",
    "map :               x -> {s1=x, s2=x^2, n=1}  \n",
    "reduce : (obj1, obj2) -> {  \n",
    "    s1 = obj1.s1 + obj2.s1,  \n",
    "    s2 = obj1.s2 + obj2.s2,  \n",
    "    n = obj1.n + obj2.n  \n",
    "final_step : s2/n-s1^2/n\n",
    "```\n",
    "  \n",
    "When you compute the variance, the means is computed \"for free\"\n",
    "\n"
   ]
  },
  {
   "attachments": {},
   "cell_type": "markdown",
   "id": "6b3bf1b9-3dbf-4e56-a6f8-4477a7c7d751",
   "metadata": {},
   "source": [
    "## 3. Application on Airbnb Data"
   ]
  },
  {
   "cell_type": "code",
   "execution_count": 8,
   "id": "cc6cf64f",
   "metadata": {
    "vscode": {
     "languageId": "plaintext"
    }
   },
   "outputs": [],
   "source": [
    "import os\n",
    "from pyspark.sql import SparkSession\n",
    "\n",
    "spark = (SparkSession \n",
    "         .builder\n",
    "         # default url of the internally accessed Kubernetes API\n",
    "         # (This Jupyter notebook service is itself a Kubernetes Pod)\n",
    "         .master(\"k8s://https://kubernetes.default.svc:443\")\n",
    "         # Executors spark docker image: for simplicity reasons, this jupyter notebook is reused \n",
    "         .config(\"spark.kubernetes.container.image\", os.environ['IMAGE_NAME'])\n",
    "         # Name of the Kubernetes namespace\n",
    "         .config(\"spark.kubernetes.namespace\", os.environ['KUBERNETES_NAMESPACE'])\n",
    "         # Allocated memory to the JVM\n",
    "         # Stay careful, by default, the Kubernetes pods has a higher limit which depends on other parameters.\n",
    "         .config(\"spark.executor.memory\", \"4g\")\n",
    "         .config(\"spark.kubernetes.driver.pod.name\", os.environ['KUBERNETES_POD_NAME'])\n",
    "         # dynamic allocation configuration\n",
    "         .config(\"spark.dynamicAllocation.enabled\",\"true\")\n",
    "         .config(\"spark.dynamicAllocation.initialExecutors\",\"0\")\n",
    "         .config(\"spark.dynamicAllocation.minExecutors\",\"1\")\n",
    "         .config(\"spark.dynamicAllocation.maxExecutors\",\"5\")\n",
    "         # Ratio match the number of pods to create for a given number of parallel tasks \n",
    "         # (100 parallel, ratio of 1, one aims at 100 pods, with 0.5 it would be 50 pods)\n",
    "         .config(\"spark.dynamicAllocation.executorAllocationRatio\",\"1\")\n",
    "         .config(\"spark.dynamicAllocation.shuffleTracking.enabled\",\"true\")\n",
    "         .getOrCreate()\n",
    "        )"
   ]
  },
  {
   "cell_type": "code",
   "execution_count": 16,
   "id": "3459f5c4-7112-4104-84bf-b99a2ed4ea67",
   "metadata": {
    "tags": []
   },
   "outputs": [
    {
     "data": {
      "text/plain": [
       "DataFrame[id: string, beds: int, bedrooms: int, price: float, city: string, time: date]"
      ]
     },
     "execution_count": 16,
     "metadata": {},
     "output_type": "execute_result"
    }
   ],
   "source": [
    "from pyspark.sql.types import FloatType, IntegerType, DateType\n",
    "from pyspark.sql.functions import regexp_replace, col\n",
    "\n",
    "listings_raw = spark.read.csv(\"s3a://remipepin/diffusion/ensai/airbnb\", header=True, multiLine=True, escape='\"')\n",
    "\n",
    "listings = (listings_raw\n",
    "  .withColumn(\"beds\",     listings_raw[\"beds\"    ].cast(IntegerType()))\n",
    "  .withColumn(\"bedrooms\", listings_raw[\"bedrooms\"].cast(IntegerType()))\n",
    "  .withColumn(\"time\", listings_raw[\"last_scraped\"].cast(DateType()))\n",
    "  .withColumn(\"price\", regexp_replace('price', '[$\\\\,]', '').cast(FloatType()))\n",
    "  .select(\"id\", \"beds\", \"bedrooms\", \"price\", \"city\", \"time\")\n",
    "  .dropna() # remove lines with missing values\n",
    ")\n",
    "\n",
    "listings_raw.cache()\n",
    "listings.cache()"
   ]
  },
  {
   "attachments": {},
   "cell_type": "markdown",
   "id": "5cc1d2e3-97df-4891-9f5a-4fb2eebde9d3",
   "metadata": {
    "tags": []
   },
   "source": [
    "### ✍ Hands-on 2\n",
    "\n",
    "- [ ] How many lines do the raw and the formatted datasets have?"
   ]
  },
  {
   "cell_type": "code",
   "execution_count": 14,
   "id": "fb008afe-09dc-4e9a-bcea-59874b0f8027",
   "metadata": {},
   "outputs": [
    {
     "name": "stderr",
     "output_type": "stream",
     "text": [
      "[Stage 18:=============================>                            (1 + 1) / 2]\r"
     ]
    },
    {
     "name": "stdout",
     "output_type": "stream",
     "text": [
      "Observations before cleaning: 172304 rows\n",
      "Observations  after cleaning: 76068 rows)\n"
     ]
    },
    {
     "name": "stderr",
     "output_type": "stream",
     "text": [
      "                                                                                \r"
     ]
    }
   ],
   "source": [
    "print(f\"Observations before cleaning: {listings_raw.count()} rows\")\n",
    "print(f\"Observations  after cleaning:  {listings.count()} rows)\")"
   ]
  },
  {
   "attachments": {},
   "cell_type": "markdown",
   "id": "f4a0e9e8-7cc5-4323-aa8c-3fb2936354c5",
   "metadata": {},
   "source": [
    "- [ ] How many columns are there?\n",
    "  - [ ] Can you list all the available columns?"
   ]
  },
  {
   "cell_type": "code",
   "execution_count": 17,
   "id": "ad28c4e4-b20b-40ba-910f-377ebb21b4da",
   "metadata": {},
   "outputs": [
    {
     "name": "stdout",
     "output_type": "stream",
     "text": [
      "There are 75 columns:\n",
      "- id\n",
      "- listing_url\n",
      "- scrape_id\n",
      "- last_scraped\n",
      "- name\n",
      "- description\n",
      "- neighborhood_overview\n",
      "- picture_url\n",
      "- host_id\n",
      "- host_url\n",
      "- host_name\n",
      "- host_since\n",
      "- host_location\n",
      "- host_about\n",
      "- host_response_time\n",
      "- host_response_rate\n",
      "- host_acceptance_rate\n",
      "- host_is_superhost\n",
      "- host_thumbnail_url\n",
      "- host_picture_url\n",
      "- host_neighbourhood\n",
      "- host_listings_count\n",
      "- host_total_listings_count\n",
      "- host_verifications\n",
      "- host_has_profile_pic\n",
      "- host_identity_verified\n",
      "- neighbourhood\n",
      "- neighbourhood_cleansed\n",
      "- neighbourhood_group_cleansed\n",
      "- latitude\n",
      "- longitude\n",
      "- property_type\n",
      "- room_type\n",
      "- accommodates\n",
      "- bathrooms\n",
      "- bathrooms_text\n",
      "- bedrooms\n",
      "- beds\n",
      "- amenities\n",
      "- price\n",
      "- minimum_nights\n",
      "- maximum_nights\n",
      "- minimum_minimum_nights\n",
      "- maximum_minimum_nights\n",
      "- minimum_maximum_nights\n",
      "- maximum_maximum_nights\n",
      "- minimum_nights_avg_ntm\n",
      "- maximum_nights_avg_ntm\n",
      "- calendar_updated\n",
      "- has_availability\n",
      "- availability_30\n",
      "- availability_60\n",
      "- availability_90\n",
      "- availability_365\n",
      "- calendar_last_scraped\n",
      "- number_of_reviews\n",
      "- number_of_reviews_ltm\n",
      "- number_of_reviews_l30d\n",
      "- first_review\n",
      "- last_review\n",
      "- review_scores_rating\n",
      "- review_scores_accuracy\n",
      "- review_scores_cleanliness\n",
      "- review_scores_checkin\n",
      "- review_scores_communication\n",
      "- review_scores_location\n",
      "- review_scores_value\n",
      "- license\n",
      "- instant_bookable\n",
      "- calculated_host_listings_count\n",
      "- calculated_host_listings_count_entire_homes\n",
      "- calculated_host_listings_count_private_rooms\n",
      "- calculated_host_listings_count_shared_rooms\n",
      "- reviews_per_month\n",
      "- city\n"
     ]
    }
   ],
   "source": [
    "print(\"There are\", len(listings_raw.columns), \"columns:\")\n",
    "print('\\n'.join( [\"- \"+column for column in listings_raw.columns] ))"
   ]
  },
  {
   "attachments": {},
   "cell_type": "markdown",
   "id": "92f7091e-055b-4315-8d5a-6ba4e09944f1",
   "metadata": {},
   "source": [
    "**Spark SQL's `summary()` method**\n",
    "\n",
    "In Spark SQL, **elementary univariate summary statistics can also be obtained through the `summary()` method**. The `summary()` method takes either the names of the statistics to compute, or nothing, in which case it computes every possible statistics:\n",
    "\n",
    "```python\n",
    "listings.summary(\"count\", \"min\", \"max\").show() # computes the selection of statistics\n",
    "```\n",
    "\n",
    "```python\n",
    "listings.summary().show() # computes every possible statistics\n",
    "```\n",
    "\n",
    "This is a way to incite you to compute all the statistics you want at the same moment : it avoids an extra pass on the data set because all accumulators can be computed simultaneously. You can fin a list of all supported statistics [here](https://spark.apache.org/docs/latest/api/python/reference/api/pyspark.sql.DataFrame.summary.html) in PySpark documentation: count, mean, standard-deviation, minimum, maximum, approximate median, approximate first and last quartiles. Null (missing) values will be ignored in numerical columns before calculation.\n",
    "\n",
    "**Spark ML**\n",
    "\n",
    "Spark ML is a Spark module that allow us to execute parallelised versions of most popular machine-learning algorithms, such as linear or logistic regression. However, we can also use Spark ML to compute elementaty univariate summary statistics. However the philosophy is quite different, and is worth explaining[^philosophy].\n",
    "\n",
    "[^philosophy]: The syntax of Spark ML may feel artificially convoluted ; this not only an impression, it *is* convoluted. However, there are grounds for this situation :\n",
    "\n",
    "1. Spark ML has been built on top of Spark years into the project, and the core of Spark is not well adapted to machine-learning ;\n",
    "2. Spark ML is intended for much more advanced treatments than unviariate statistics, and we will see linear regression as an exemple at the end of this tutorial\n",
    "\n",
    "**Step 1: vectorisation.** A little counter-intuitively, spark ML operates on a single column of your data frame, typically called `features`. (Features is the word used in the machine-learning community for \"variables\", see \"Vocabulary\" section hereunder.) This `features` column has the `Vector` type: each element contains an array of floating-point numbers, representing a subst of the variables from your dataset. The key is that this `features` column is usually redundant with the rest of the data frame: it just ensures the proper conversion from any type we wish (string, integer...) to a standardized numeric format. Indeed, it is often derived from the other columns, as this image illustrates:\n",
    "\n",
    "![](img/vector-format.png)\n",
    "\n",
    "Unfortunately for us, the construction the `features` column is not performed automatically under the hood by Spark, like when doing statistics in R. On the contrary, we have to construct the column explicitly. The `VectorAssembler()` constructor is here for that:\n",
    "\n",
    "```python\n",
    "from pyspark.ml.feature import VectorAssembler\n",
    "\n",
    "vectorizer = VectorAssembler(\n",
    "    inputCols     = [\"price\", \"beds\", \"bedrooms\"], # the columns we want to put in the features column\n",
    "    outputCol     = \"features\",                    # the name of the column (\"features\")\n",
    "    handleInvalid = 'skip'                         # skip rows with missing / invalid values\n",
    ")\n",
    "\n",
    "listings_vec = vectorizer.transform(listings)\n",
    "\n",
    "# Reminders:\n",
    "# Spark data sets are immutable: a copy is returned, and the original is unchanged.\n",
    "# Spark operations are lazy: listings_vec just contains the recipe for building vector column\n",
    "# but no item of the column is computed unless explicitly asked to.\n",
    "\n",
    "listings_vec.show(5) # The first 5 values of the features column are computed.\n",
    "```\n",
    "\n",
    "**Step 2: summarization.** Now that we have a vector column, we can use a `Summarizer` object to declare all the statistics we want to compute, in a similar fashion than with the Spark SQL `summary()` method. The following statistics are known: mean\\*, sum\\*, variance\\*, standard-deviation\\*, count\\*, number of non-zero entries, maximum\\*, minimum\\*, L2-norm, L1-norm, as can be read in [the documentation](https://spark.apache.org/docs/3.1.1/api/python/reference/api/pyspark.ml.stat.Summarizer.html). _(Stars (\\*) denote statistics that could also be computed with the `summary()` method. Approximate quartiles are not computed.)_ Summarizers are created with the `Summarizer.metrics()` constructor. Here again, you are incited to declare all the summaries at once, so that they can all be computed in one pass:\n",
    "\n",
    "```python\n",
    "from pyspark.ml.stat    import Summarizer\n",
    "\n",
    "summarizer = Summarizer.metrics(\"count\", \"min\", \"max\")\n",
    "\n",
    "listings_vec.select( summarizer.summary(listings_vec.features), ).show(truncate=False)\n",
    "# By default, the output of columns is capped to a maximum width.\n",
    "# truncate=False prevents this behaviour.\n",
    "```\n",
    "\n",
    "This produces the output:\n",
    "\n",
    "![](img/summary.png)"
   ]
  },
  {
   "attachments": {},
   "cell_type": "markdown",
   "id": "a59296b7-1903-4c7c-8614-ea8f7882b26e",
   "metadata": {},
   "source": [
    "### ✍ Hands-on 3\n",
    "\n",
    "- [ ] Is `listings.summary()` slower to run than `listings.summary(\"count\", \"min\", \"max\")` ? Why?\n",
    "  - You can measure time in Python with this simple template:\n",
    "  ```python\n",
    "  from timeit import default_timer as t\n",
    "  start = t()\n",
    "  # the thing you want to measure\n",
    "  print(\"Time:\", t()-start)\n",
    "  ```\n"
   ]
  },
  {
   "cell_type": "code",
   "execution_count": 20,
   "id": "efb443e4-da87-4d9d-9753-918f8cd2440a",
   "metadata": {
    "tags": [],
    "vscode": {
     "languageId": "json"
    }
   },
   "outputs": [
    {
     "name": "stdout",
     "output_type": "stream",
     "text": [
      "+-------+--------+-----+--------+-------+---------+\n",
      "|summary|      id| beds|bedrooms|  price|     city|\n",
      "+-------+--------+-----+--------+-------+---------+\n",
      "|  count|   76068|76068|   76068|  76068|    76068|\n",
      "|    min|10000070|    1|       1|    8.0|barcelona|\n",
      "|    max|  999984|   50|      40|21000.0| salem-or|\n",
      "+-------+--------+-----+--------+-------+---------+\n",
      "\n",
      "Execution time for sumary(\"count\"...): 0.34646108420565724 s\n"
     ]
    }
   ],
   "source": [
    "from timeit import default_timer as t\n",
    "start = t()\n",
    "listings.summary(\"count\", \"min\", \"max\").show()\n",
    "print (\"Execution time for sumary(\\\"count\\\"...):\", t()-start, \"s\")"
   ]
  },
  {
   "cell_type": "code",
   "execution_count": 21,
   "id": "a9dcb21f-4a2a-434f-bc3d-2a5c3637aaf6",
   "metadata": {},
   "outputs": [
    {
     "name": "stderr",
     "output_type": "stream",
     "text": [
      "[Stage 37:=============================>                            (1 + 1) / 2]\r"
     ]
    },
    {
     "name": "stdout",
     "output_type": "stream",
     "text": [
      "+-------+--------------------+------------------+------------------+-----------------+---------+\n",
      "|summary|                  id|              beds|          bedrooms|            price|     city|\n",
      "+-------+--------------------+------------------+------------------+-----------------+---------+\n",
      "|  count|               76068|             76068|             76068|            76068|    76068|\n",
      "|   mean| 2.796842090852921E7|  2.01415838460325|1.4599568806857022| 139.525464058474|     NULL|\n",
      "| stddev|1.6815504618984208E7|1.5607291976267956|0.8792732459703068|359.7987457459551|     NULL|\n",
      "|    min|            10000070|                 1|                 1|              8.0|barcelona|\n",
      "|    25%|         1.3080002E7|                 1|                 1|             55.0|     NULL|\n",
      "|    50%|           2.83904E7|                 1|                 1|             85.0|     NULL|\n",
      "|    75%|         4.3175642E7|                 2|                 2|            145.0|     NULL|\n",
      "|    max|              999984|                50|                40|          21000.0| salem-or|\n",
      "+-------+--------------------+------------------+------------------+-----------------+---------+\n",
      "\n",
      "Execution time for sumary(): 1.150401049759239 s\n"
     ]
    },
    {
     "name": "stderr",
     "output_type": "stream",
     "text": [
      "                                                                                \r"
     ]
    }
   ],
   "source": [
    "start = t()\n",
    "listings.summary().show()\n",
    "print (\"Execution time for sumary():\", t()-start, \"s\")\n",
    "\n",
    "# The restriction to only \"count\", \"min\", \"max\" is only marginally faster\n",
    "# This is because in both cases only one pass is performed, and the other\n",
    "# statistics come almost for free."
   ]
  },
  {
   "attachments": {},
   "cell_type": "markdown",
   "id": "44ddab14-e385-4bac-b61b-85e45b7fd260",
   "metadata": {},
   "source": [
    "- [ ] Compute the average number of beds per property in Barcelona in four different ways:\n",
    "  - Which method is the fastest?\n",
    "\n",
    "1. directly with the Spark SQL mean function,\n",
    "2. using `summary()`,\n",
    "3. using a `Sumarizer` object\n",
    "4. locally after you collected the bed columns.\n",
    "\n",
    "   _Despite the operation being very common, Spark does **not** provide a simple syntax to collect a column as a local array. A work-around is to use the Pandas package and the `asPanda()` method ([documentation](https://spark.apache.org/docs/latest/api/python/reference/api/pyspark.sql.DataFrame.toPandas.html)). First install Pandas with `!pip install pandas`. Then you can collect a local copy of a dataframe called `df` with: `df_local = df.toPandas()`. A Pandas data frame possesses a `mean()` method, that compute the mean of each column of the data frame: more details are in Pandas' [documentation]( https://pandas.pydata.org/pandas-docs/stable/reference/api/pandas.DataFrame.mean.html)._\n",
    "\n"
   ]
  },
  {
   "cell_type": "code",
   "execution_count": 35,
   "id": "b05e4f48-c8d1-4065-9deb-7903e2e60a56",
   "metadata": {
    "vscode": {
     "languageId": "json"
    }
   },
   "outputs": [
    {
     "name": "stdout",
     "output_type": "stream",
     "text": [
      "+------------------+\n",
      "|         avg(beds)|\n",
      "+------------------+\n",
      "|2.4359878335407164|\n",
      "+------------------+\n",
      "\n",
      "Execution time: 0.1951604038476944 s\n"
     ]
    }
   ],
   "source": [
    "# Spark SQL\n",
    "\n",
    "from pyspark.sql.functions import mean\n",
    "\n",
    "start = t()\n",
    "\n",
    "listings.filter(col(\"city\")==\"barcelona\").select(mean('beds')).show()\n",
    "\n",
    "print (\"Execution time:\", t()-start, \"s\")"
   ]
  },
  {
   "cell_type": "code",
   "execution_count": 36,
   "id": "1b6677a2-3560-4662-a68f-685e75242216",
   "metadata": {},
   "outputs": [
    {
     "name": "stdout",
     "output_type": "stream",
     "text": [
      "+-------+------------------+\n",
      "|summary|              beds|\n",
      "+-------+------------------+\n",
      "|   mean|2.4359878335407164|\n",
      "+-------+------------------+\n",
      "\n",
      "Execution time: 0.24082778487354517 s\n"
     ]
    }
   ],
   "source": [
    "# summary()\n",
    "\n",
    "start = t()\n",
    "listings\\\n",
    "  .filter(col(\"city\")==\"barcelona\")\\\n",
    "  .select(\"beds\")\\\n",
    "  .summary(\"mean\")\\\n",
    "  .show()\n",
    "print (\"Execution time:\", t()-start, \"s\")"
   ]
  },
  {
   "cell_type": "code",
   "execution_count": 37,
   "id": "127f7802-3e8c-4114-9780-ab924c78d435",
   "metadata": {},
   "outputs": [
    {
     "name": "stdout",
     "output_type": "stream",
     "text": [
      "+--------------------------------+\n",
      "|aggregate_metrics(features, 1.0)|\n",
      "+--------------------------------+\n",
      "|{[2.435987833540721]}           |\n",
      "+--------------------------------+\n",
      "\n",
      "Execution time: 0.3429903411306441 s\n"
     ]
    }
   ],
   "source": [
    "# Sumarizer\n",
    "\n",
    "from pyspark.ml.feature import VectorAssembler\n",
    "from pyspark.ml.stat    import Summarizer\n",
    "\n",
    "start = t()\n",
    "vectorizer = VectorAssembler(\n",
    "    inputCols     = [\"beds\"],\n",
    "    outputCol     = \"features\"\n",
    ")\n",
    "summarizer = Summarizer.metrics(\"mean\")\n",
    "listings_vec = vectorizer\\\n",
    "  .transform(listings.filter(col(\"city\")==\"barcelona\"))\n",
    "listings_vec\\\n",
    "  .select(summarizer.summary(listings_vec.features))\\\n",
    "  .show(truncate=False)\n",
    "print (\"Execution time:\", t()-start, \"s\")"
   ]
  },
  {
   "cell_type": "code",
   "execution_count": 30,
   "id": "055569ef-eea0-408b-90e8-fc270cb37ccf",
   "metadata": {},
   "outputs": [
    {
     "name": "stdout",
     "output_type": "stream",
     "text": [
      "Collecting pandas\n",
      "  Downloading pandas-2.1.4-cp310-cp310-manylinux_2_17_x86_64.manylinux2014_x86_64.whl.metadata (18 kB)\n",
      "Requirement already satisfied: numpy<2,>=1.22.4 in /opt/mamba/lib/python3.10/site-packages (from pandas) (1.26.3)\n",
      "Requirement already satisfied: python-dateutil>=2.8.2 in /opt/mamba/lib/python3.10/site-packages (from pandas) (2.8.2)\n",
      "Requirement already satisfied: pytz>=2020.1 in /opt/mamba/lib/python3.10/site-packages (from pandas) (2023.3.post1)\n",
      "Collecting tzdata>=2022.1 (from pandas)\n",
      "  Downloading tzdata-2023.4-py2.py3-none-any.whl.metadata (1.4 kB)\n",
      "Requirement already satisfied: six>=1.5 in /opt/mamba/lib/python3.10/site-packages (from python-dateutil>=2.8.2->pandas) (1.16.0)\n",
      "Downloading pandas-2.1.4-cp310-cp310-manylinux_2_17_x86_64.manylinux2014_x86_64.whl (12.3 MB)\n",
      "\u001b[2K   \u001b[90m━━━━━━━━━━━━━━━━━━━━━━━━━━━━━━━━━━━━━━━━\u001b[0m \u001b[32m12.3/12.3 MB\u001b[0m \u001b[31m22.1 MB/s\u001b[0m eta \u001b[36m0:00:00\u001b[0m00:01\u001b[0m00:01\u001b[0m\n",
      "\u001b[?25hDownloading tzdata-2023.4-py2.py3-none-any.whl (346 kB)\n",
      "\u001b[2K   \u001b[90m━━━━━━━━━━━━━━━━━━━━━━━━━━━━━━━━━━━━━━━━\u001b[0m \u001b[32m346.6/346.6 kB\u001b[0m \u001b[31m7.9 MB/s\u001b[0m eta \u001b[36m0:00:00\u001b[0m:00:01\u001b[0m\n",
      "\u001b[?25hInstalling collected packages: tzdata, pandas\n",
      "Successfully installed pandas-2.1.4 tzdata-2023.4\n",
      "Execution time: 0.9221463790163398 s\n"
     ]
    }
   ],
   "source": [
    "!pip install pandas"
   ]
  },
  {
   "cell_type": "code",
   "execution_count": 38,
   "id": "de45798f-ebc4-484c-8757-f65f018f32df",
   "metadata": {},
   "outputs": [
    {
     "name": "stdout",
     "output_type": "stream",
     "text": [
      "2.4359878335407164\n",
      "Execution time: 0.16933884471654892 s\n"
     ]
    }
   ],
   "source": [
    "# locally after you collected the bed columns\n",
    "start = t()\n",
    "m = listings\\\n",
    "  .filter(col(\"city\")==\"barcelona\")\\\n",
    "  .select('beds')\\\n",
    "  .toPandas()\\\n",
    "  .mean()\n",
    "\n",
    "print(m.beds)\n",
    "print(\"Execution time:\", t()-start, \"s\")"
   ]
  },
  {
   "attachments": {},
   "cell_type": "markdown",
   "id": "db8db03e-4296-451f-a4a6-29345aebaf96",
   "metadata": {},
   "source": [
    "The most simple model is often surprisingly difficult to beat!\n",
    "\n",
    "- [ ] Compute the mean price on the data set as a predictor for an AirBnB listing's price and the total sum of squares. (We will elaborate in the next section.)"
   ]
  },
  {
   "cell_type": "code",
   "execution_count": 48,
   "id": "e13c28bd-9510-4c6f-92f8-236d548d4153",
   "metadata": {
    "vscode": {
     "languageId": "json"
    }
   },
   "outputs": [
    {
     "data": {
      "text/plain": [
       "139.525464058474"
      ]
     },
     "execution_count": 48,
     "metadata": {},
     "output_type": "execute_result"
    }
   ],
   "source": [
    "from pyspark.sql.functions import mean\n",
    "price_mean = listings.select(mean(\"price\"))        # this is a (remote) data frame\n",
    "price_mean = price_mean.first()                    # this is a (local) row\n",
    "price_mean = price_mean[0]                         # this is a (local) number\n",
    "price_mean"
   ]
  },
  {
   "attachments": {},
   "cell_type": "markdown",
   "id": "0f247219-739f-4a74-beee-6c8d0665f6f7",
   "metadata": {},
   "source": [
    "## 4. Regression with Spark ML\n",
    "\n",
    "A better way to predict prices is to build a regression mode, which in Spark falls under the broad category of machine-learning problems. Regressions thus belong the the `ml` module, often called Spark ML, like the summarizer that we saw just before.\n",
    "\n",
    "There is an old module called `mllib` that is also called \"Spark ML\". That can cause confusion.\n",
    "\n",
    "The `ml` module is built in a distinctive fashion than the rest of Spark. **Firstly** we have seen with `Summarizer` that we can not readily use the columns and that instead **columns have to be first converted to a `Vector` format** with the `VectorAssembler` function.\n",
    "\n",
    "**Secondly**, we need to distinguish between two different types of object classes: transformers and estimators classes. **Transformers** are a class of objects representing any process that modifies the dataset, and returns the modified version. It has a **transform()** method. **Estimators** on the other hand are classes of objects representing any process that produces a transformer based on some computed parameters from the data set. It has a **`fit()`** method. It is easier with an example. In the following example, `regressor` is an estimator, and we compute the regression coefficients with the `fit()` method. This produces `model`, the regression model itself, which is of class transformer. Indeed, we can use its `transform()` method to add predictions to the initial dataset.\n",
    "\n",
    "```python\n",
    "from pyspark.ml.feature import VectorAssembler\n",
    "from pyspark.ml.regression import LinearRegression\n",
    "\n",
    "vectorizer = VectorAssembler( # copy-pasted from previous section...\n",
    "    inputCols     = [\"beds\", \"bedrooms\"], # ... but without price\n",
    "    outputCol     = \"features\",\n",
    "    handleInvalid = 'skip'\n",
    ")\n",
    "\n",
    "listings_vec = vectorizer.transform(listings)\n",
    "\n",
    "regressor = LinearRegression(featuresCol=\"features\", labelCol=\"price\")\n",
    "model     = regressor.fit(listings_vec)\n",
    "\n",
    "model.coefficients\n",
    "model.intercept\n",
    "\n",
    "listings_pred = model.transform(listings_vec)\n",
    "listings_pred.show() # model and predictions from the regression\n",
    "```\n",
    "\n",
    "**Vocabulary**\n",
    "\n",
    "The machine-learning community leaves at the border between computer science and mathematics. They borrow vocabulary from both sides, and it can sometimes be confusing when reading software documentation. Spark's `lib` module uses conventions from this community :\n",
    "\n",
    "- **label**, rather than \"independent variable\". This comes from the fact that historically, machine-learning has originated from problems such as image labeling (for instance digit recognition). Even for continuous variables, machine-learners may use \"label\"\n",
    "- **features**, rather than \"dependent variables\" ; the number of features is often dubbed $d$ like dimension (instead of $p$ in statistics)\n",
    "- machine-learners don't use the word \"observation\" or \"unit\" and prefer **row**\n",
    "\n",
    "**Pipelines**\n",
    "\n",
    "If you come to repeat several times the same series of transformations, you may take advantage of the pipeline objects. A **pipeline** is just a collections of steps applied to the same dataset. This helpful when you:\n",
    "\n",
    "- repeat the same analysis for different regions / periods\n",
    "- want to control predictions on a new, unseen test set, and ant to apply exactly the same process\n",
    "\n",
    "```python\n",
    "from pyspark.ml.feature import VectorAssembler\n",
    "from pyspark.ml.regression import LinearRegression\n",
    "from pyspark.ml import Pipeline\n",
    "\n",
    "vectorizer = VectorAssembler( # same vectorizer as before\n",
    "    inputCols     = [\"beds\", \"bedrooms\"],\n",
    "    outputCol     = \"features\",\n",
    "    handleInvalid = 'skip'\n",
    ")\n",
    "regressor = LinearRegression(featuresCol=\"features\", labelCol=\"price\") # same regressor\n",
    "pipeline  = Pipeline(stages = [vectorizer, regressor]) # ... but now we pack them into a pipeline\n",
    "\n",
    "listings_beij = listings.filter(listings.city==\"Beijing\")\n",
    "listings_barc = listings.filter(listings.city==\"Barcelona\")\n",
    "\n",
    "model_beij = pipeline.fit(listings_beij) # vectorizer AND regressor are applied\n",
    "model_barc = pipeline.fit(listings_barc)\n",
    "\n",
    "print(model_beij.stages[1].coefficients) # model.stages[0] is the first step, model.stages[1] the second...\n",
    "print(model_beij.stages[1].intercept)\n",
    "\n",
    "print(model_barc.stages[1].coefficients)\n",
    "print(model_barc.stages[1].intercept)\n",
    "```"
   ]
  },
  {
   "attachments": {},
   "cell_type": "markdown",
   "id": "a71c2605-e0be-408e-9f42-51936299565b",
   "metadata": {},
   "source": [
    "### ✍ Hands-on 4\n",
    "\n",
    "- [ ] Interpret the results of the general regression."
   ]
  },
  {
   "cell_type": "code",
   "execution_count": 49,
   "id": "ef478e69-663b-41f3-8ff6-ad07a87a82b6",
   "metadata": {
    "vscode": {
     "languageId": "json"
    }
   },
   "outputs": [
    {
     "name": "stderr",
     "output_type": "stream",
     "text": [
      "                                                                                \r"
     ]
    }
   ],
   "source": [
    "from pyspark.ml.feature import VectorAssembler\n",
    "from pyspark.ml.regression import LinearRegression\n",
    "\n",
    "vectorizer = VectorAssembler( # copy-pasted from previous section...\n",
    "    inputCols     = [\"beds\", \"bedrooms\"], # ... but without price\n",
    "    outputCol     = \"features\",\n",
    "    handleInvalid = 'skip'\n",
    ")\n",
    "\n",
    "listings_vec = vectorizer.transform(listings)\n",
    "\n",
    "regressor = LinearRegression(featuresCol=\"features\", labelCol=\"price\")\n",
    "model     = regressor.fit(listings_vec)"
   ]
  },
  {
   "cell_type": "code",
   "execution_count": 52,
   "id": "063f33a2-8747-4b8b-b606-69d16e33dfcf",
   "metadata": {},
   "outputs": [
    {
     "name": "stdout",
     "output_type": "stream",
     "text": [
      "Coefficients : [4.605615925032313,56.5075583633869]\n",
      "intercept : 47.7504254834323\n"
     ]
    }
   ],
   "source": [
    "print(f\"Coefficients : {model.coefficients}\")\n",
    "print(f\"intercept : {model.intercept}\")"
   ]
  },
  {
   "attachments": {},
   "cell_type": "markdown",
   "id": "1aa40cc0-4f67-4b2d-862d-c715f63f7375",
   "metadata": {},
   "source": [
    "- [ ] Collect the model's $R^2$. How good is our model?\n",
    "  - Models have a `summary` property, that you can explore with `dir(model.summary)`."
   ]
  },
  {
   "cell_type": "code",
   "execution_count": 53,
   "id": "f12d825d-d23b-43f5-9923-1b43807c6c4e",
   "metadata": {
    "vscode": {
     "languageId": "json"
    }
   },
   "outputs": [
    {
     "data": {
      "text/plain": [
       "['__class__',\n",
       " '__del__',\n",
       " '__delattr__',\n",
       " '__dict__',\n",
       " '__dir__',\n",
       " '__doc__',\n",
       " '__eq__',\n",
       " '__format__',\n",
       " '__ge__',\n",
       " '__getattribute__',\n",
       " '__gt__',\n",
       " '__hash__',\n",
       " '__init__',\n",
       " '__init_subclass__',\n",
       " '__le__',\n",
       " '__lt__',\n",
       " '__module__',\n",
       " '__ne__',\n",
       " '__new__',\n",
       " '__reduce__',\n",
       " '__reduce_ex__',\n",
       " '__repr__',\n",
       " '__setattr__',\n",
       " '__sizeof__',\n",
       " '__str__',\n",
       " '__subclasshook__',\n",
       " '__weakref__',\n",
       " '_call_java',\n",
       " '_create_from_java_class',\n",
       " '_java_obj',\n",
       " '_new_java_array',\n",
       " '_new_java_obj',\n",
       " 'coefficientStandardErrors',\n",
       " 'degreesOfFreedom',\n",
       " 'devianceResiduals',\n",
       " 'explainedVariance',\n",
       " 'featuresCol',\n",
       " 'labelCol',\n",
       " 'meanAbsoluteError',\n",
       " 'meanSquaredError',\n",
       " 'numInstances',\n",
       " 'objectiveHistory',\n",
       " 'pValues',\n",
       " 'predictionCol',\n",
       " 'predictions',\n",
       " 'r2',\n",
       " 'r2adj',\n",
       " 'residuals',\n",
       " 'rootMeanSquaredError',\n",
       " 'tValues',\n",
       " 'totalIterations']"
      ]
     },
     "execution_count": 53,
     "metadata": {},
     "output_type": "execute_result"
    }
   ],
   "source": [
    "dir(model.summary)"
   ]
  },
  {
   "cell_type": "code",
   "execution_count": 54,
   "id": "13f69b5c-dfaa-4566-b100-096f7194c5f2",
   "metadata": {},
   "outputs": [
    {
     "data": {
      "text/plain": [
       "0.023645470854602335"
      ]
     },
     "execution_count": 54,
     "metadata": {},
     "output_type": "execute_result"
    }
   ],
   "source": [
    "model.summary.r2"
   ]
  },
  {
   "attachments": {},
   "cell_type": "markdown",
   "id": "173a0ce9-972e-4038-b782-65ac879cde35",
   "metadata": {},
   "source": [
    "- [ ] Repeat the estimation separately for barcelona, brussels and rome.\n",
    "  - [ ] Are the coefficients stable? _You will build a pipeline object._"
   ]
  },
  {
   "cell_type": "code",
   "execution_count": 67,
   "id": "67f45014-95f0-425d-9bc8-0e469efe5d3a",
   "metadata": {},
   "outputs": [
    {
     "name": "stdout",
     "output_type": "stream",
     "text": [
      "+-------------+\n",
      "|         city|\n",
      "+-------------+\n",
      "|     brussels|\n",
      "|         riga|\n",
      "|    barcelona|\n",
      "|     salem-or|\n",
      "|new-york-city|\n",
      "|         rome|\n",
      "+-------------+\n",
      "\n"
     ]
    }
   ],
   "source": [
    "listings\\\n",
    "  .select(\"city\")\\\n",
    "  .distinct()\\\n",
    "  .show()"
   ]
  },
  {
   "cell_type": "code",
   "execution_count": 66,
   "id": "22170a73-ae57-4596-905c-0ed8bc00534f",
   "metadata": {
    "vscode": {
     "languageId": "json"
    }
   },
   "outputs": [
    {
     "name": "stdout",
     "output_type": "stream",
     "text": [
      "Coeeficients for rome are : [1.2705666265413038,60.521987958586976]\n",
      "Coeeficients for barcelona are : [11.699388065651194,27.071195447324577]\n",
      "Coeeficients for brussels are : [22.01332271072145,20.109348232104463]\n"
     ]
    }
   ],
   "source": [
    "from pyspark.ml.feature import VectorAssembler\n",
    "from pyspark.ml.regression import LinearRegression\n",
    "from pyspark.ml import Pipeline\n",
    "from pyspark.sql.functions import year\n",
    "\n",
    "vectorizer = VectorAssembler(\n",
    "    inputCols     = [\"beds\", \"bedrooms\"],\n",
    "    outputCol     = \"features\",\n",
    "    handleInvalid = 'skip'\n",
    ")\n",
    "regressor = LinearRegression(featuresCol=\"features\", labelCol=\"price\")\n",
    "pipeline  = Pipeline(stages = [vectorizer, regressor])\n",
    "\n",
    "cities = [\"rome\", \"barcelona\", \"brussels\"]\n",
    "models = {}\n",
    "\n",
    "for city in cities :\n",
    "    models[city]= pipeline.fit(listings.filter(listings.city==city))\n",
    "\n",
    "for city, model in models.items():\n",
    "    print(f\"Coeeficients for {city} are : {model.stages[-1].coefficients}\")"
   ]
  },
  {
   "attachments": {},
   "cell_type": "markdown",
   "id": "04e46201-df0d-4411-b874-8f2023312146",
   "metadata": {},
   "source": [
    "- [ ] Are the `fit()` and `transform()` methods called eagerly or lazily?\n",
    "  - [ ] Check the execution plan with the `explain()` method for lazy evaluations."
   ]
  },
  {
   "cell_type": "code",
   "execution_count": 68,
   "id": "2dde504f-a9e1-4d0e-a0cc-58eef2f5d504",
   "metadata": {
    "vscode": {
     "languageId": "json"
    }
   },
   "outputs": [],
   "source": [
    "# fit() is eager ; transform() is lazy"
   ]
  },
  {
   "attachments": {},
   "cell_type": "markdown",
   "id": "b761baeb-17ba-40a5-aaf5-8827fd5b1b65",
   "metadata": {},
   "source": [
    "## 5. Diving deeper\n",
    "\n",
    "You are in autonomy for this section. You will find helpful:\n",
    "\n",
    "- The general Spark documentation for the `ml` module: https://spark.apache.org/docs/latest/ml-guide.html\n",
    "- The PySpark documentation: https://spark.apache.org/docs/latest/api/python/index.html"
   ]
  },
  {
   "attachments": {},
   "cell_type": "markdown",
   "id": "0d1b8594-5b76-45cc-b9e7-dc1d47b71ab4",
   "metadata": {},
   "source": [
    "### ✍ Hands-on 5\n",
    "\n",
    "- [ ] Add a categorical variable to the regression."
   ]
  },
  {
   "cell_type": "code",
   "execution_count": null,
   "id": "8b9e1d19-f023-4f42-a242-20f76ea76015",
   "metadata": {},
   "outputs": [],
   "source": []
  },
  {
   "attachments": {},
   "cell_type": "markdown",
   "id": "63701d2f-a511-46d8-8e54-33f948d5a8c4",
   "metadata": {},
   "source": [
    "- [ ] Compute the p-values of your model as well as confidence intervals for the predictions."
   ]
  },
  {
   "cell_type": "code",
   "execution_count": null,
   "id": "24e51ec5-d3cc-46f0-8fe5-cf28eb12dade",
   "metadata": {},
   "outputs": [],
   "source": []
  },
  {
   "attachments": {},
   "cell_type": "markdown",
   "id": "1e410557-9c61-43c4-b7f4-187e97c30ccf",
   "metadata": {},
   "source": [
    "- [ ] Time the regression in different settings and report the results on [this shared spreadsheet](https://docs.google.com/spreadsheets/d/1KSCLMgiepoKKiDdRrwlQv_0XYn5ptzXRB7TP-TRXCAw/edit?usp=sharing). How does it scale with the number of listings ($n$) ? the number of regressors ($p$) ? the number of nodes in your cluster ($k$) ? _You will only try a couple of configurations that have not been tested by others. Remember that you can order and revoke nodes from your cluster at any time from the AWS's cluster view, in the hardware tab, on on the CORE line, \"resize\"._"
   ]
  },
  {
   "cell_type": "code",
   "execution_count": null,
   "id": "86a5e25d-1e9c-47aa-b0ef-136d4261deb7",
   "metadata": {},
   "outputs": [],
   "source": []
  },
  {
   "attachments": {},
   "cell_type": "markdown",
   "id": "38f53a43-7be8-4305-8025-d5323bd979bc",
   "metadata": {},
   "source": [
    "- [ ] Down-sample your data set to $n=100000$, while still keeping a few variables. Save it on S3, then download it on your computer. Run the regression locally on your computer in R. In your opinion, is the extra precision (in term of $R^2$) is worth the extra computation time?"
   ]
  },
  {
   "cell_type": "markdown",
   "id": "3f73197c-2b4f-4703-b3c5-f6f2137513e0",
   "metadata": {},
   "source": [
    "# 6. End of the Lab\n",
    "\n",
    "- [ ] Export your notebook\n",
    "  - Right clic and Download (.ipynb)\n",
    "  - File > Save and Export Notebook > HTML\n",
    "- [ ] Delete the Jupyter-pyspark service\n",
    "  - https://datalab.sspcloud.fr/my-services\n",
    "  "
   ]
  }
 ],
 "metadata": {
  "kernelspec": {
   "display_name": "Python 3 (ipykernel)",
   "language": "python",
   "name": "python3"
  },
  "language_info": {
   "codemirror_mode": {
    "name": "ipython",
    "version": 3
   },
   "file_extension": ".py",
   "mimetype": "text/x-python",
   "name": "python",
   "nbconvert_exporter": "python",
   "pygments_lexer": "ipython3",
   "version": "3.10.13"
  }
 },
 "nbformat": 4,
 "nbformat_minor": 5
}
